{
  "nbformat": 4,
  "nbformat_minor": 0,
  "metadata": {
    "colab": {
      "provenance": []
    },
    "kernelspec": {
      "name": "python3",
      "display_name": "Python 3"
    },
    "language_info": {
      "name": "python"
    }
  },
  "cells": [
    {
      "cell_type": "markdown",
      "source": [
        "#clustering based"
      ],
      "metadata": {
        "id": "hmzjWXEIYQbD"
      }
    },
    {
      "cell_type": "markdown",
      "source": [
        "#1st"
      ],
      "metadata": {
        "id": "nieQyr28YuM8"
      }
    },
    {
      "cell_type": "code",
      "source": [
        "import folium    #interactive map for the data visulization\n",
        "import pandas as pd\n",
        "from sklearn.cluster import KMeans\n",
        "\n",
        "# Load the sample dataset\n",
        "data = pd.read_csv('waste_data.csv')\n",
        "\n",
        "# Extract latitude and longitude columns\n",
        "coordinates = data[['Latitude', 'Longitude']]"
      ],
      "metadata": {
        "id": "8G5b2NoKIgN6"
      },
      "execution_count": 1,
      "outputs": []
    },
    {
      "cell_type": "code",
      "source": [
        "# Number of clusters (you can adjust this based on your needs)\n",
        "num_clusters = 5"
      ],
      "metadata": {
        "id": "x7SPK5j0IiBC"
      },
      "execution_count": 2,
      "outputs": []
    },
    {
      "cell_type": "code",
      "source": [
        "# Create a K-Means clustering model\n",
        "kmeans = KMeans(n_clusters=num_clusters, random_state=0)\n",
        "data['Cluster'] = kmeans.fit_predict(coordinates)"
      ],
      "metadata": {
        "id": "dkKQlZ3jIj0R",
        "colab": {
          "base_uri": "https://localhost:8080/"
        },
        "outputId": "7cdeb198-e762-4d20-c112-47950ed98283"
      },
      "execution_count": 3,
      "outputs": [
        {
          "output_type": "stream",
          "name": "stderr",
          "text": [
            "/usr/local/lib/python3.10/dist-packages/sklearn/cluster/_kmeans.py:870: FutureWarning: The default value of `n_init` will change from 10 to 'auto' in 1.4. Set the value of `n_init` explicitly to suppress the warning\n",
            "  warnings.warn(\n"
          ]
        }
      ]
    },
    {
      "cell_type": "code",
      "source": [
        "# Create a folium map centered at a location within your dataset\n",
        "map_center = [data['Latitude'].mean(), data['Longitude'].mean()]\n",
        "m = folium.Map(location=map_center, zoom_start=13)"
      ],
      "metadata": {
        "id": "ipUEGAVvIlL1"
      },
      "execution_count": 4,
      "outputs": []
    },
    {
      "cell_type": "code",
      "source": [
        "# Define cluster colors\n",
        "cluster_colors = ['red', 'blue', 'green', 'purple', 'orange']"
      ],
      "metadata": {
        "id": "KCunfR6EInQe"
      },
      "execution_count": 5,
      "outputs": []
    },
    {
      "cell_type": "code",
      "source": [
        "# Add markers for waste collection points with different cluster colors\n",
        "for cluster in range(num_clusters):\n",
        "    cluster_data = data[data['Cluster'] == cluster]\n",
        "    for index, row in cluster_data.iterrows():\n",
        "        folium.CircleMarker(\n",
        "            location=[row['Latitude'], row['Longitude']],\n",
        "            radius=5,\n",
        "            color=cluster_colors[cluster],\n",
        "            fill=True,\n",
        "            fill_color=cluster_colors[cluster],\n",
        "            fill_opacity=0.7,\n",
        "            popup=f'Cluster: {cluster}, Type: {row[\"WasteType\"]}, Volume: {row[\"WasteVolume\"]}'\n",
        "        ).add_to(m)\n",
        "\n",
        "# Display the map directly in a Jupyter Notebook\n",
        "m"
      ],
      "metadata": {
        "colab": {
          "base_uri": "https://localhost:8080/",
          "height": 866
        },
        "id": "lhc9MXmMIYgM",
        "outputId": "7c7ec909-5d97-4735-8d8f-20042b6dcad5"
      },
      "execution_count": 6,
      "outputs": [
        {
          "output_type": "execute_result",
          "data": {
            "text/plain": [
              "<folium.folium.Map at 0x7d52cf5a3550>"
            ],
            "text/html": [
              "<div style=\"width:100%;\"><div style=\"position:relative;width:100%;height:0;padding-bottom:60%;\"><span style=\"color:#565656\">Make this Notebook Trusted to load map: File -> Trust Notebook</span><iframe srcdoc=\"&lt;!DOCTYPE html&gt;\n",
              "&lt;html&gt;\n",
              "&lt;head&gt;\n",
              "    \n",
              "    &lt;meta http-equiv=&quot;content-type&quot; content=&quot;text/html; charset=UTF-8&quot; /&gt;\n",
              "    \n",
              "        &lt;script&gt;\n",
              "            L_NO_TOUCH = false;\n",
              "            L_DISABLE_3D = false;\n",
              "        &lt;/script&gt;\n",
              "    \n",
              "    &lt;style&gt;html, body {width: 100%;height: 100%;margin: 0;padding: 0;}&lt;/style&gt;\n",
              "    &lt;style&gt;#map {position:absolute;top:0;bottom:0;right:0;left:0;}&lt;/style&gt;\n",
              "    &lt;script src=&quot;https://cdn.jsdelivr.net/npm/leaflet@1.9.3/dist/leaflet.js&quot;&gt;&lt;/script&gt;\n",
              "    &lt;script src=&quot;https://code.jquery.com/jquery-1.12.4.min.js&quot;&gt;&lt;/script&gt;\n",
              "    &lt;script src=&quot;https://cdn.jsdelivr.net/npm/bootstrap@5.2.2/dist/js/bootstrap.bundle.min.js&quot;&gt;&lt;/script&gt;\n",
              "    &lt;script src=&quot;https://cdnjs.cloudflare.com/ajax/libs/Leaflet.awesome-markers/2.0.2/leaflet.awesome-markers.js&quot;&gt;&lt;/script&gt;\n",
              "    &lt;link rel=&quot;stylesheet&quot; href=&quot;https://cdn.jsdelivr.net/npm/leaflet@1.9.3/dist/leaflet.css&quot;/&gt;\n",
              "    &lt;link rel=&quot;stylesheet&quot; href=&quot;https://cdn.jsdelivr.net/npm/bootstrap@5.2.2/dist/css/bootstrap.min.css&quot;/&gt;\n",
              "    &lt;link rel=&quot;stylesheet&quot; href=&quot;https://netdna.bootstrapcdn.com/bootstrap/3.0.0/css/bootstrap.min.css&quot;/&gt;\n",
              "    &lt;link rel=&quot;stylesheet&quot; href=&quot;https://cdn.jsdelivr.net/npm/@fortawesome/fontawesome-free@6.2.0/css/all.min.css&quot;/&gt;\n",
              "    &lt;link rel=&quot;stylesheet&quot; href=&quot;https://cdnjs.cloudflare.com/ajax/libs/Leaflet.awesome-markers/2.0.2/leaflet.awesome-markers.css&quot;/&gt;\n",
              "    &lt;link rel=&quot;stylesheet&quot; href=&quot;https://cdn.jsdelivr.net/gh/python-visualization/folium/folium/templates/leaflet.awesome.rotate.min.css&quot;/&gt;\n",
              "    \n",
              "            &lt;meta name=&quot;viewport&quot; content=&quot;width=device-width,\n",
              "                initial-scale=1.0, maximum-scale=1.0, user-scalable=no&quot; /&gt;\n",
              "            &lt;style&gt;\n",
              "                #map_0c78cad38d810bbf48790dcbc80e2c11 {\n",
              "                    position: relative;\n",
              "                    width: 100.0%;\n",
              "                    height: 100.0%;\n",
              "                    left: 0.0%;\n",
              "                    top: 0.0%;\n",
              "                }\n",
              "                .leaflet-container { font-size: 1rem; }\n",
              "            &lt;/style&gt;\n",
              "        \n",
              "&lt;/head&gt;\n",
              "&lt;body&gt;\n",
              "    \n",
              "    \n",
              "            &lt;div class=&quot;folium-map&quot; id=&quot;map_0c78cad38d810bbf48790dcbc80e2c11&quot; &gt;&lt;/div&gt;\n",
              "        \n",
              "&lt;/body&gt;\n",
              "&lt;script&gt;\n",
              "    \n",
              "    \n",
              "            var map_0c78cad38d810bbf48790dcbc80e2c11 = L.map(\n",
              "                &quot;map_0c78cad38d810bbf48790dcbc80e2c11&quot;,\n",
              "                {\n",
              "                    center: [34.057233333333336, -118.24457333333334],\n",
              "                    crs: L.CRS.EPSG3857,\n",
              "                    zoom: 13,\n",
              "                    zoomControl: true,\n",
              "                    preferCanvas: false,\n",
              "                }\n",
              "            );\n",
              "\n",
              "            \n",
              "\n",
              "        \n",
              "    \n",
              "            var tile_layer_749ba266fcb6b8c113f9264088418978 = L.tileLayer(\n",
              "                &quot;https://{s}.tile.openstreetmap.org/{z}/{x}/{y}.png&quot;,\n",
              "                {&quot;attribution&quot;: &quot;Data by \\u0026copy; \\u003ca target=\\&quot;_blank\\&quot; href=\\&quot;http://openstreetmap.org\\&quot;\\u003eOpenStreetMap\\u003c/a\\u003e, under \\u003ca target=\\&quot;_blank\\&quot; href=\\&quot;http://www.openstreetmap.org/copyright\\&quot;\\u003eODbL\\u003c/a\\u003e.&quot;, &quot;detectRetina&quot;: false, &quot;maxNativeZoom&quot;: 18, &quot;maxZoom&quot;: 18, &quot;minZoom&quot;: 0, &quot;noWrap&quot;: false, &quot;opacity&quot;: 1, &quot;subdomains&quot;: &quot;abc&quot;, &quot;tms&quot;: false}\n",
              "            ).addTo(map_0c78cad38d810bbf48790dcbc80e2c11);\n",
              "        \n",
              "    \n",
              "            var circle_marker_729347794cf21b3fa39c62909bebd958 = L.circleMarker(\n",
              "                [34.0567, -118.2421],\n",
              "                {&quot;bubblingMouseEvents&quot;: true, &quot;color&quot;: &quot;red&quot;, &quot;dashArray&quot;: null, &quot;dashOffset&quot;: null, &quot;fill&quot;: true, &quot;fillColor&quot;: &quot;red&quot;, &quot;fillOpacity&quot;: 0.7, &quot;fillRule&quot;: &quot;evenodd&quot;, &quot;lineCap&quot;: &quot;round&quot;, &quot;lineJoin&quot;: &quot;round&quot;, &quot;opacity&quot;: 1.0, &quot;radius&quot;: 5, &quot;stroke&quot;: true, &quot;weight&quot;: 3}\n",
              "            ).addTo(map_0c78cad38d810bbf48790dcbc80e2c11);\n",
              "        \n",
              "    \n",
              "        var popup_894cd042e1546752b7d34e80f26dbf0f = L.popup({&quot;maxWidth&quot;: &quot;100%&quot;});\n",
              "\n",
              "        \n",
              "            \n",
              "                var html_81a47fcbf9e74e2424e301225c0ba5a8 = $(`&lt;div id=&quot;html_81a47fcbf9e74e2424e301225c0ba5a8&quot; style=&quot;width: 100.0%; height: 100.0%;&quot;&gt;Cluster: 0, Type: Organic, Volume: 80 kg&lt;/div&gt;`)[0];\n",
              "                popup_894cd042e1546752b7d34e80f26dbf0f.setContent(html_81a47fcbf9e74e2424e301225c0ba5a8);\n",
              "            \n",
              "        \n",
              "\n",
              "        circle_marker_729347794cf21b3fa39c62909bebd958.bindPopup(popup_894cd042e1546752b7d34e80f26dbf0f)\n",
              "        ;\n",
              "\n",
              "        \n",
              "    \n",
              "    \n",
              "            var circle_marker_b2d5863c9871b6c09d4976f28d612440 = L.circleMarker(\n",
              "                [34.0559, -118.2441],\n",
              "                {&quot;bubblingMouseEvents&quot;: true, &quot;color&quot;: &quot;red&quot;, &quot;dashArray&quot;: null, &quot;dashOffset&quot;: null, &quot;fill&quot;: true, &quot;fillColor&quot;: &quot;red&quot;, &quot;fillOpacity&quot;: 0.7, &quot;fillRule&quot;: &quot;evenodd&quot;, &quot;lineCap&quot;: &quot;round&quot;, &quot;lineJoin&quot;: &quot;round&quot;, &quot;opacity&quot;: 1.0, &quot;radius&quot;: 5, &quot;stroke&quot;: true, &quot;weight&quot;: 3}\n",
              "            ).addTo(map_0c78cad38d810bbf48790dcbc80e2c11);\n",
              "        \n",
              "    \n",
              "        var popup_3771196e06f1bedc769cfa97e315bec0 = L.popup({&quot;maxWidth&quot;: &quot;100%&quot;});\n",
              "\n",
              "        \n",
              "            \n",
              "                var html_7f33ca1df8ebb576fd9d31a8306f90c0 = $(`&lt;div id=&quot;html_7f33ca1df8ebb576fd9d31a8306f90c0&quot; style=&quot;width: 100.0%; height: 100.0%;&quot;&gt;Cluster: 0, Type: Non-Recyclables, Volume: 280 kg&lt;/div&gt;`)[0];\n",
              "                popup_3771196e06f1bedc769cfa97e315bec0.setContent(html_7f33ca1df8ebb576fd9d31a8306f90c0);\n",
              "            \n",
              "        \n",
              "\n",
              "        circle_marker_b2d5863c9871b6c09d4976f28d612440.bindPopup(popup_3771196e06f1bedc769cfa97e315bec0)\n",
              "        ;\n",
              "\n",
              "        \n",
              "    \n",
              "    \n",
              "            var circle_marker_79f3be569beff37b10297a7d0c7addc2 = L.circleMarker(\n",
              "                [34.0566, -118.2427],\n",
              "                {&quot;bubblingMouseEvents&quot;: true, &quot;color&quot;: &quot;red&quot;, &quot;dashArray&quot;: null, &quot;dashOffset&quot;: null, &quot;fill&quot;: true, &quot;fillColor&quot;: &quot;red&quot;, &quot;fillOpacity&quot;: 0.7, &quot;fillRule&quot;: &quot;evenodd&quot;, &quot;lineCap&quot;: &quot;round&quot;, &quot;lineJoin&quot;: &quot;round&quot;, &quot;opacity&quot;: 1.0, &quot;radius&quot;: 5, &quot;stroke&quot;: true, &quot;weight&quot;: 3}\n",
              "            ).addTo(map_0c78cad38d810bbf48790dcbc80e2c11);\n",
              "        \n",
              "    \n",
              "        var popup_bcd3234b123c84ff1f0f2bd4c3ecc47c = L.popup({&quot;maxWidth&quot;: &quot;100%&quot;});\n",
              "\n",
              "        \n",
              "            \n",
              "                var html_bf1684ed4321188688c71ebd9aeeee19 = $(`&lt;div id=&quot;html_bf1684ed4321188688c71ebd9aeeee19&quot; style=&quot;width: 100.0%; height: 100.0%;&quot;&gt;Cluster: 0, Type: Recyclables, Volume: 170 kg&lt;/div&gt;`)[0];\n",
              "                popup_bcd3234b123c84ff1f0f2bd4c3ecc47c.setContent(html_bf1684ed4321188688c71ebd9aeeee19);\n",
              "            \n",
              "        \n",
              "\n",
              "        circle_marker_79f3be569beff37b10297a7d0c7addc2.bindPopup(popup_bcd3234b123c84ff1f0f2bd4c3ecc47c)\n",
              "        ;\n",
              "\n",
              "        \n",
              "    \n",
              "    \n",
              "            var circle_marker_84da28b5c04ec4e2fefbc3b14458d8a3 = L.circleMarker(\n",
              "                [34.058, -118.2419],\n",
              "                {&quot;bubblingMouseEvents&quot;: true, &quot;color&quot;: &quot;red&quot;, &quot;dashArray&quot;: null, &quot;dashOffset&quot;: null, &quot;fill&quot;: true, &quot;fillColor&quot;: &quot;red&quot;, &quot;fillOpacity&quot;: 0.7, &quot;fillRule&quot;: &quot;evenodd&quot;, &quot;lineCap&quot;: &quot;round&quot;, &quot;lineJoin&quot;: &quot;round&quot;, &quot;opacity&quot;: 1.0, &quot;radius&quot;: 5, &quot;stroke&quot;: true, &quot;weight&quot;: 3}\n",
              "            ).addTo(map_0c78cad38d810bbf48790dcbc80e2c11);\n",
              "        \n",
              "    \n",
              "        var popup_46d11fc2883477316a3358e6997981dc = L.popup({&quot;maxWidth&quot;: &quot;100%&quot;});\n",
              "\n",
              "        \n",
              "            \n",
              "                var html_f65093f9292df768b6a9b85f4d50577f = $(`&lt;div id=&quot;html_f65093f9292df768b6a9b85f4d50577f&quot; style=&quot;width: 100.0%; height: 100.0%;&quot;&gt;Cluster: 0, Type: Organic, Volume: 70 kg&lt;/div&gt;`)[0];\n",
              "                popup_46d11fc2883477316a3358e6997981dc.setContent(html_f65093f9292df768b6a9b85f4d50577f);\n",
              "            \n",
              "        \n",
              "\n",
              "        circle_marker_84da28b5c04ec4e2fefbc3b14458d8a3.bindPopup(popup_46d11fc2883477316a3358e6997981dc)\n",
              "        ;\n",
              "\n",
              "        \n",
              "    \n",
              "    \n",
              "            var circle_marker_e1f4ab273ed4a574b6b8a42c4f2511ae = L.circleMarker(\n",
              "                [34.0601, -118.2458],\n",
              "                {&quot;bubblingMouseEvents&quot;: true, &quot;color&quot;: &quot;blue&quot;, &quot;dashArray&quot;: null, &quot;dashOffset&quot;: null, &quot;fill&quot;: true, &quot;fillColor&quot;: &quot;blue&quot;, &quot;fillOpacity&quot;: 0.7, &quot;fillRule&quot;: &quot;evenodd&quot;, &quot;lineCap&quot;: &quot;round&quot;, &quot;lineJoin&quot;: &quot;round&quot;, &quot;opacity&quot;: 1.0, &quot;radius&quot;: 5, &quot;stroke&quot;: true, &quot;weight&quot;: 3}\n",
              "            ).addTo(map_0c78cad38d810bbf48790dcbc80e2c11);\n",
              "        \n",
              "    \n",
              "        var popup_d730dc01700852dde55dea2efb77f96d = L.popup({&quot;maxWidth&quot;: &quot;100%&quot;});\n",
              "\n",
              "        \n",
              "            \n",
              "                var html_4a0f4bd00c6824f7bbb717cf1da17693 = $(`&lt;div id=&quot;html_4a0f4bd00c6824f7bbb717cf1da17693&quot; style=&quot;width: 100.0%; height: 100.0%;&quot;&gt;Cluster: 1, Type: Organic, Volume: 60 kg&lt;/div&gt;`)[0];\n",
              "                popup_d730dc01700852dde55dea2efb77f96d.setContent(html_4a0f4bd00c6824f7bbb717cf1da17693);\n",
              "            \n",
              "        \n",
              "\n",
              "        circle_marker_e1f4ab273ed4a574b6b8a42c4f2511ae.bindPopup(popup_d730dc01700852dde55dea2efb77f96d)\n",
              "        ;\n",
              "\n",
              "        \n",
              "    \n",
              "    \n",
              "            var circle_marker_f6c19dcd2b53bd92bb2cae042a4677ce = L.circleMarker(\n",
              "                [34.0605, -118.2452],\n",
              "                {&quot;bubblingMouseEvents&quot;: true, &quot;color&quot;: &quot;blue&quot;, &quot;dashArray&quot;: null, &quot;dashOffset&quot;: null, &quot;fill&quot;: true, &quot;fillColor&quot;: &quot;blue&quot;, &quot;fillOpacity&quot;: 0.7, &quot;fillRule&quot;: &quot;evenodd&quot;, &quot;lineCap&quot;: &quot;round&quot;, &quot;lineJoin&quot;: &quot;round&quot;, &quot;opacity&quot;: 1.0, &quot;radius&quot;: 5, &quot;stroke&quot;: true, &quot;weight&quot;: 3}\n",
              "            ).addTo(map_0c78cad38d810bbf48790dcbc80e2c11);\n",
              "        \n",
              "    \n",
              "        var popup_36519f78630876c89a835db7f7efcabc = L.popup({&quot;maxWidth&quot;: &quot;100%&quot;});\n",
              "\n",
              "        \n",
              "            \n",
              "                var html_fc19c42c5881af66ac660fe9d4ad90e0 = $(`&lt;div id=&quot;html_fc19c42c5881af66ac660fe9d4ad90e0&quot; style=&quot;width: 100.0%; height: 100.0%;&quot;&gt;Cluster: 1, Type: Organic, Volume: 100 kg&lt;/div&gt;`)[0];\n",
              "                popup_36519f78630876c89a835db7f7efcabc.setContent(html_fc19c42c5881af66ac660fe9d4ad90e0);\n",
              "            \n",
              "        \n",
              "\n",
              "        circle_marker_f6c19dcd2b53bd92bb2cae042a4677ce.bindPopup(popup_36519f78630876c89a835db7f7efcabc)\n",
              "        ;\n",
              "\n",
              "        \n",
              "    \n",
              "    \n",
              "            var circle_marker_c8048f930ad7b2336ecb166bf86d9f1a = L.circleMarker(\n",
              "                [34.0613, -118.2463],\n",
              "                {&quot;bubblingMouseEvents&quot;: true, &quot;color&quot;: &quot;blue&quot;, &quot;dashArray&quot;: null, &quot;dashOffset&quot;: null, &quot;fill&quot;: true, &quot;fillColor&quot;: &quot;blue&quot;, &quot;fillOpacity&quot;: 0.7, &quot;fillRule&quot;: &quot;evenodd&quot;, &quot;lineCap&quot;: &quot;round&quot;, &quot;lineJoin&quot;: &quot;round&quot;, &quot;opacity&quot;: 1.0, &quot;radius&quot;: 5, &quot;stroke&quot;: true, &quot;weight&quot;: 3}\n",
              "            ).addTo(map_0c78cad38d810bbf48790dcbc80e2c11);\n",
              "        \n",
              "    \n",
              "        var popup_71443164a2f87175864576cc558c9ed3 = L.popup({&quot;maxWidth&quot;: &quot;100%&quot;});\n",
              "\n",
              "        \n",
              "            \n",
              "                var html_24ae0021aef2c8dcaf05fdb23118a547 = $(`&lt;div id=&quot;html_24ae0021aef2c8dcaf05fdb23118a547&quot; style=&quot;width: 100.0%; height: 100.0%;&quot;&gt;Cluster: 1, Type: Non-Recyclables, Volume: 260 kg&lt;/div&gt;`)[0];\n",
              "                popup_71443164a2f87175864576cc558c9ed3.setContent(html_24ae0021aef2c8dcaf05fdb23118a547);\n",
              "            \n",
              "        \n",
              "\n",
              "        circle_marker_c8048f930ad7b2336ecb166bf86d9f1a.bindPopup(popup_71443164a2f87175864576cc558c9ed3)\n",
              "        ;\n",
              "\n",
              "        \n",
              "    \n",
              "    \n",
              "            var circle_marker_2b09f3b791d83e5a4cd7d4c5d13a2fdf = L.circleMarker(\n",
              "                [34.0538, -118.2471],\n",
              "                {&quot;bubblingMouseEvents&quot;: true, &quot;color&quot;: &quot;green&quot;, &quot;dashArray&quot;: null, &quot;dashOffset&quot;: null, &quot;fill&quot;: true, &quot;fillColor&quot;: &quot;green&quot;, &quot;fillOpacity&quot;: 0.7, &quot;fillRule&quot;: &quot;evenodd&quot;, &quot;lineCap&quot;: &quot;round&quot;, &quot;lineJoin&quot;: &quot;round&quot;, &quot;opacity&quot;: 1.0, &quot;radius&quot;: 5, &quot;stroke&quot;: true, &quot;weight&quot;: 3}\n",
              "            ).addTo(map_0c78cad38d810bbf48790dcbc80e2c11);\n",
              "        \n",
              "    \n",
              "        var popup_66539d182972acfa49f25e0e15dd2091 = L.popup({&quot;maxWidth&quot;: &quot;100%&quot;});\n",
              "\n",
              "        \n",
              "            \n",
              "                var html_7366dac311aa0e383455e874b4f7580b = $(`&lt;div id=&quot;html_7366dac311aa0e383455e874b4f7580b&quot; style=&quot;width: 100.0%; height: 100.0%;&quot;&gt;Cluster: 2, Type: Recyclables, Volume: 200 kg&lt;/div&gt;`)[0];\n",
              "                popup_66539d182972acfa49f25e0e15dd2091.setContent(html_7366dac311aa0e383455e874b4f7580b);\n",
              "            \n",
              "        \n",
              "\n",
              "        circle_marker_2b09f3b791d83e5a4cd7d4c5d13a2fdf.bindPopup(popup_66539d182972acfa49f25e0e15dd2091)\n",
              "        ;\n",
              "\n",
              "        \n",
              "    \n",
              "    \n",
              "            var circle_marker_02a8f37ee653c3a9c43887fc785d5cb2 = L.circleMarker(\n",
              "                [34.0553, -118.2468],\n",
              "                {&quot;bubblingMouseEvents&quot;: true, &quot;color&quot;: &quot;green&quot;, &quot;dashArray&quot;: null, &quot;dashOffset&quot;: null, &quot;fill&quot;: true, &quot;fillColor&quot;: &quot;green&quot;, &quot;fillOpacity&quot;: 0.7, &quot;fillRule&quot;: &quot;evenodd&quot;, &quot;lineCap&quot;: &quot;round&quot;, &quot;lineJoin&quot;: &quot;round&quot;, &quot;opacity&quot;: 1.0, &quot;radius&quot;: 5, &quot;stroke&quot;: true, &quot;weight&quot;: 3}\n",
              "            ).addTo(map_0c78cad38d810bbf48790dcbc80e2c11);\n",
              "        \n",
              "    \n",
              "        var popup_fa6c390258d653c0241930f3d96dfc9f = L.popup({&quot;maxWidth&quot;: &quot;100%&quot;});\n",
              "\n",
              "        \n",
              "            \n",
              "                var html_c2e3842a33d88b9fa280eef160f5d633 = $(`&lt;div id=&quot;html_c2e3842a33d88b9fa280eef160f5d633&quot; style=&quot;width: 100.0%; height: 100.0%;&quot;&gt;Cluster: 2, Type: Organic, Volume: 90 kg&lt;/div&gt;`)[0];\n",
              "                popup_fa6c390258d653c0241930f3d96dfc9f.setContent(html_c2e3842a33d88b9fa280eef160f5d633);\n",
              "            \n",
              "        \n",
              "\n",
              "        circle_marker_02a8f37ee653c3a9c43887fc785d5cb2.bindPopup(popup_fa6c390258d653c0241930f3d96dfc9f)\n",
              "        ;\n",
              "\n",
              "        \n",
              "    \n",
              "    \n",
              "            var circle_marker_5f699e0d5cc173d90ca7593fe8073cd1 = L.circleMarker(\n",
              "                [34.0575, -118.2444],\n",
              "                {&quot;bubblingMouseEvents&quot;: true, &quot;color&quot;: &quot;purple&quot;, &quot;dashArray&quot;: null, &quot;dashOffset&quot;: null, &quot;fill&quot;: true, &quot;fillColor&quot;: &quot;purple&quot;, &quot;fillOpacity&quot;: 0.7, &quot;fillRule&quot;: &quot;evenodd&quot;, &quot;lineCap&quot;: &quot;round&quot;, &quot;lineJoin&quot;: &quot;round&quot;, &quot;opacity&quot;: 1.0, &quot;radius&quot;: 5, &quot;stroke&quot;: true, &quot;weight&quot;: 3}\n",
              "            ).addTo(map_0c78cad38d810bbf48790dcbc80e2c11);\n",
              "        \n",
              "    \n",
              "        var popup_840ff790bddb8fde1a4b338d61b3c452 = L.popup({&quot;maxWidth&quot;: &quot;100%&quot;});\n",
              "\n",
              "        \n",
              "            \n",
              "                var html_72dc46d3e94b73ead81065aef136a1cf = $(`&lt;div id=&quot;html_72dc46d3e94b73ead81065aef136a1cf&quot; style=&quot;width: 100.0%; height: 100.0%;&quot;&gt;Cluster: 3, Type: Non-Recyclables, Volume: 300 kg&lt;/div&gt;`)[0];\n",
              "                popup_840ff790bddb8fde1a4b338d61b3c452.setContent(html_72dc46d3e94b73ead81065aef136a1cf);\n",
              "            \n",
              "        \n",
              "\n",
              "        circle_marker_5f699e0d5cc173d90ca7593fe8073cd1.bindPopup(popup_840ff790bddb8fde1a4b338d61b3c452)\n",
              "        ;\n",
              "\n",
              "        \n",
              "    \n",
              "    \n",
              "            var circle_marker_caf910bca313ec73b83034fdfb30684e = L.circleMarker(\n",
              "                [34.0593, -118.2439],\n",
              "                {&quot;bubblingMouseEvents&quot;: true, &quot;color&quot;: &quot;purple&quot;, &quot;dashArray&quot;: null, &quot;dashOffset&quot;: null, &quot;fill&quot;: true, &quot;fillColor&quot;: &quot;purple&quot;, &quot;fillOpacity&quot;: 0.7, &quot;fillRule&quot;: &quot;evenodd&quot;, &quot;lineCap&quot;: &quot;round&quot;, &quot;lineJoin&quot;: &quot;round&quot;, &quot;opacity&quot;: 1.0, &quot;radius&quot;: 5, &quot;stroke&quot;: true, &quot;weight&quot;: 3}\n",
              "            ).addTo(map_0c78cad38d810bbf48790dcbc80e2c11);\n",
              "        \n",
              "    \n",
              "        var popup_dd75519da173da7700caf36089af8edd = L.popup({&quot;maxWidth&quot;: &quot;100%&quot;});\n",
              "\n",
              "        \n",
              "            \n",
              "                var html_646fe6b808d855c16f3b999579e466c2 = $(`&lt;div id=&quot;html_646fe6b808d855c16f3b999579e466c2&quot; style=&quot;width: 100.0%; height: 100.0%;&quot;&gt;Cluster: 3, Type: Recyclables, Volume: 190 kg&lt;/div&gt;`)[0];\n",
              "                popup_dd75519da173da7700caf36089af8edd.setContent(html_646fe6b808d855c16f3b999579e466c2);\n",
              "            \n",
              "        \n",
              "\n",
              "        circle_marker_caf910bca313ec73b83034fdfb30684e.bindPopup(popup_dd75519da173da7700caf36089af8edd)\n",
              "        ;\n",
              "\n",
              "        \n",
              "    \n",
              "    \n",
              "            var circle_marker_87417d4cf4126cfef47b4dc30021d842 = L.circleMarker(\n",
              "                [34.0592, -118.2438],\n",
              "                {&quot;bubblingMouseEvents&quot;: true, &quot;color&quot;: &quot;purple&quot;, &quot;dashArray&quot;: null, &quot;dashOffset&quot;: null, &quot;fill&quot;: true, &quot;fillColor&quot;: &quot;purple&quot;, &quot;fillOpacity&quot;: 0.7, &quot;fillRule&quot;: &quot;evenodd&quot;, &quot;lineCap&quot;: &quot;round&quot;, &quot;lineJoin&quot;: &quot;round&quot;, &quot;opacity&quot;: 1.0, &quot;radius&quot;: 5, &quot;stroke&quot;: true, &quot;weight&quot;: 3}\n",
              "            ).addTo(map_0c78cad38d810bbf48790dcbc80e2c11);\n",
              "        \n",
              "    \n",
              "        var popup_de14fe57f0d1eeb45eed365e3676f9e8 = L.popup({&quot;maxWidth&quot;: &quot;100%&quot;});\n",
              "\n",
              "        \n",
              "            \n",
              "                var html_0eede23132e6fe51e18393f97fd99721 = $(`&lt;div id=&quot;html_0eede23132e6fe51e18393f97fd99721&quot; style=&quot;width: 100.0%; height: 100.0%;&quot;&gt;Cluster: 3, Type: Non-Recyclables, Volume: 310 kg&lt;/div&gt;`)[0];\n",
              "                popup_de14fe57f0d1eeb45eed365e3676f9e8.setContent(html_0eede23132e6fe51e18393f97fd99721);\n",
              "            \n",
              "        \n",
              "\n",
              "        circle_marker_87417d4cf4126cfef47b4dc30021d842.bindPopup(popup_de14fe57f0d1eeb45eed365e3676f9e8)\n",
              "        ;\n",
              "\n",
              "        \n",
              "    \n",
              "    \n",
              "            var circle_marker_fea7237b4a7d5a2bfe5f7d3fddf74400 = L.circleMarker(\n",
              "                [34.0596, -118.2446],\n",
              "                {&quot;bubblingMouseEvents&quot;: true, &quot;color&quot;: &quot;purple&quot;, &quot;dashArray&quot;: null, &quot;dashOffset&quot;: null, &quot;fill&quot;: true, &quot;fillColor&quot;: &quot;purple&quot;, &quot;fillOpacity&quot;: 0.7, &quot;fillRule&quot;: &quot;evenodd&quot;, &quot;lineCap&quot;: &quot;round&quot;, &quot;lineJoin&quot;: &quot;round&quot;, &quot;opacity&quot;: 1.0, &quot;radius&quot;: 5, &quot;stroke&quot;: true, &quot;weight&quot;: 3}\n",
              "            ).addTo(map_0c78cad38d810bbf48790dcbc80e2c11);\n",
              "        \n",
              "    \n",
              "        var popup_2b9b2496288b3e1e02d18dcf338c0e57 = L.popup({&quot;maxWidth&quot;: &quot;100%&quot;});\n",
              "\n",
              "        \n",
              "            \n",
              "                var html_68af3d8ab7de7d29bd1bffd062ab4871 = $(`&lt;div id=&quot;html_68af3d8ab7de7d29bd1bffd062ab4871&quot; style=&quot;width: 100.0%; height: 100.0%;&quot;&gt;Cluster: 3, Type: Recyclables, Volume: 210 kg&lt;/div&gt;`)[0];\n",
              "                popup_2b9b2496288b3e1e02d18dcf338c0e57.setContent(html_68af3d8ab7de7d29bd1bffd062ab4871);\n",
              "            \n",
              "        \n",
              "\n",
              "        circle_marker_fea7237b4a7d5a2bfe5f7d3fddf74400.bindPopup(popup_2b9b2496288b3e1e02d18dcf338c0e57)\n",
              "        ;\n",
              "\n",
              "        \n",
              "    \n",
              "    \n",
              "            var circle_marker_b7f7fc3d7bfd4e2b5cb40d849abe0fe2 = L.circleMarker(\n",
              "                [34.0522, -118.2437],\n",
              "                {&quot;bubblingMouseEvents&quot;: true, &quot;color&quot;: &quot;orange&quot;, &quot;dashArray&quot;: null, &quot;dashOffset&quot;: null, &quot;fill&quot;: true, &quot;fillColor&quot;: &quot;orange&quot;, &quot;fillOpacity&quot;: 0.7, &quot;fillRule&quot;: &quot;evenodd&quot;, &quot;lineCap&quot;: &quot;round&quot;, &quot;lineJoin&quot;: &quot;round&quot;, &quot;opacity&quot;: 1.0, &quot;radius&quot;: 5, &quot;stroke&quot;: true, &quot;weight&quot;: 3}\n",
              "            ).addTo(map_0c78cad38d810bbf48790dcbc80e2c11);\n",
              "        \n",
              "    \n",
              "        var popup_abe29a48312e14ec5b6a8c24d1116c42 = L.popup({&quot;maxWidth&quot;: &quot;100%&quot;});\n",
              "\n",
              "        \n",
              "            \n",
              "                var html_bdf93ecea9c014b61ffde37d038d2c5f = $(`&lt;div id=&quot;html_bdf93ecea9c014b61ffde37d038d2c5f&quot; style=&quot;width: 100.0%; height: 100.0%;&quot;&gt;Cluster: 4, Type: Recyclables, Volume: 180 kg&lt;/div&gt;`)[0];\n",
              "                popup_abe29a48312e14ec5b6a8c24d1116c42.setContent(html_bdf93ecea9c014b61ffde37d038d2c5f);\n",
              "            \n",
              "        \n",
              "\n",
              "        circle_marker_b7f7fc3d7bfd4e2b5cb40d849abe0fe2.bindPopup(popup_abe29a48312e14ec5b6a8c24d1116c42)\n",
              "        ;\n",
              "\n",
              "        \n",
              "    \n",
              "    \n",
              "            var circle_marker_f54b38f90c6b227d560af95d0857e9aa = L.circleMarker(\n",
              "                [34.0525, -118.2462],\n",
              "                {&quot;bubblingMouseEvents&quot;: true, &quot;color&quot;: &quot;orange&quot;, &quot;dashArray&quot;: null, &quot;dashOffset&quot;: null, &quot;fill&quot;: true, &quot;fillColor&quot;: &quot;orange&quot;, &quot;fillOpacity&quot;: 0.7, &quot;fillRule&quot;: &quot;evenodd&quot;, &quot;lineCap&quot;: &quot;round&quot;, &quot;lineJoin&quot;: &quot;round&quot;, &quot;opacity&quot;: 1.0, &quot;radius&quot;: 5, &quot;stroke&quot;: true, &quot;weight&quot;: 3}\n",
              "            ).addTo(map_0c78cad38d810bbf48790dcbc80e2c11);\n",
              "        \n",
              "    \n",
              "        var popup_4fc7ffb2c37f9896f9215e63b7c4942e = L.popup({&quot;maxWidth&quot;: &quot;100%&quot;});\n",
              "\n",
              "        \n",
              "            \n",
              "                var html_d0bdf397585767b5f36be4cf1005016f = $(`&lt;div id=&quot;html_d0bdf397585767b5f36be4cf1005016f&quot; style=&quot;width: 100.0%; height: 100.0%;&quot;&gt;Cluster: 4, Type: Non-Recyclables, Volume: 320 kg&lt;/div&gt;`)[0];\n",
              "                popup_4fc7ffb2c37f9896f9215e63b7c4942e.setContent(html_d0bdf397585767b5f36be4cf1005016f);\n",
              "            \n",
              "        \n",
              "\n",
              "        circle_marker_f54b38f90c6b227d560af95d0857e9aa.bindPopup(popup_4fc7ffb2c37f9896f9215e63b7c4942e)\n",
              "        ;\n",
              "\n",
              "        \n",
              "    \n",
              "&lt;/script&gt;\n",
              "&lt;/html&gt;\" style=\"position:absolute;width:100%;height:100%;left:0;top:0;border:none !important;\" allowfullscreen webkitallowfullscreen mozallowfullscreen></iframe></div></div>"
            ]
          },
          "metadata": {},
          "execution_count": 6
        }
      ]
    },
    {
      "cell_type": "code",
      "source": [
        "pip install scikit-learn pandas\n"
      ],
      "metadata": {
        "colab": {
          "base_uri": "https://localhost:8080/"
        },
        "id": "tvL8lncmKImY",
        "outputId": "33876b59-f4c8-4415-dd4b-b1853c47652d"
      },
      "execution_count": 7,
      "outputs": [
        {
          "output_type": "stream",
          "name": "stdout",
          "text": [
            "Requirement already satisfied: scikit-learn in /usr/local/lib/python3.10/dist-packages (1.2.2)\n",
            "Requirement already satisfied: pandas in /usr/local/lib/python3.10/dist-packages (1.5.3)\n",
            "Requirement already satisfied: numpy>=1.17.3 in /usr/local/lib/python3.10/dist-packages (from scikit-learn) (1.23.5)\n",
            "Requirement already satisfied: scipy>=1.3.2 in /usr/local/lib/python3.10/dist-packages (from scikit-learn) (1.11.2)\n",
            "Requirement already satisfied: joblib>=1.1.1 in /usr/local/lib/python3.10/dist-packages (from scikit-learn) (1.3.2)\n",
            "Requirement already satisfied: threadpoolctl>=2.0.0 in /usr/local/lib/python3.10/dist-packages (from scikit-learn) (3.2.0)\n",
            "Requirement already satisfied: python-dateutil>=2.8.1 in /usr/local/lib/python3.10/dist-packages (from pandas) (2.8.2)\n",
            "Requirement already satisfied: pytz>=2020.1 in /usr/local/lib/python3.10/dist-packages (from pandas) (2023.3.post1)\n",
            "Requirement already satisfied: six>=1.5 in /usr/local/lib/python3.10/dist-packages (from python-dateutil>=2.8.1->pandas) (1.16.0)\n"
          ]
        }
      ]
    },
    {
      "cell_type": "markdown",
      "source": [
        "#2nd"
      ],
      "metadata": {
        "id": "zRgwSurFP8Lx"
      }
    },
    {
      "cell_type": "code",
      "source": [
        "import pandas as pd\n",
        "import matplotlib.pyplot as plt"
      ],
      "metadata": {
        "id": "4vdbaMKgP92D"
      },
      "execution_count": 8,
      "outputs": []
    },
    {
      "cell_type": "code",
      "source": [
        "data = pd.read_csv('waste_air_quality_measurement.csv')"
      ],
      "metadata": {
        "id": "050XtcopWGLj"
      },
      "execution_count": 9,
      "outputs": []
    },
    {
      "cell_type": "code",
      "source": [
        "# Convert the 'DateTime' column to datetime format\n",
        "data['DateTime'] = pd.to_datetime(data['DateTime'])"
      ],
      "metadata": {
        "id": "PncKlNd-V_TG"
      },
      "execution_count": 10,
      "outputs": []
    },
    {
      "cell_type": "code",
      "source": [
        "print(data.head())"
      ],
      "metadata": {
        "colab": {
          "base_uri": "https://localhost:8080/"
        },
        "id": "8RGKAS9YSWYR",
        "outputId": "8ee34b9b-a68f-4a32-88f3-41427e40831c"
      },
      "execution_count": 11,
      "outputs": [
        {
          "output_type": "stream",
          "name": "stdout",
          "text": [
            "   Site_Location  Latitude  Longitude            DateTime        WasteType  \\\n",
            "0              1   34.0522  -118.2437 2023-09-01 08:00:00      Recyclables   \n",
            "1              2   34.0522  -118.2437 2023-09-01 09:00:00      Recyclables   \n",
            "2              3   34.0567  -118.2421 2023-09-01 10:00:00          Organic   \n",
            "3              4   34.0567  -118.2421 2023-09-01 11:00:00          Organic   \n",
            "4              5   34.0575  -118.2444 2023-09-01 12:00:00  Non-Recyclables   \n",
            "\n",
            "  CollectionFrequency CollectionCapacity WasteVolume  AQI  PM2.5  PM10   CO  \\\n",
            "0              Weekly         240 liters      180 kg   65     10    20  0.5   \n",
            "1              Weekly         240 liters      150 kg   68     11    21  0.6   \n",
            "2            Biweekly         120 liters       80 kg   72     12    22  0.7   \n",
            "3            Biweekly         120 liters       85 kg   75     13    23  0.8   \n",
            "4               Daily         360 liters      300 kg   85     14    24  0.9   \n",
            "\n",
            "   NO2  SO2  O3  Temperature  Humidity  WindSpeed  Precipitation  \n",
            "0   15    3  30           75         5          0            NaN  \n",
            "1   16    3  31           76         6          0            NaN  \n",
            "2   17    4  32           77         7          0            NaN  \n",
            "3   18    4  33           78         8          0            NaN  \n",
            "4   19    5  34           79         9          0            NaN  \n"
          ]
        }
      ]
    },
    {
      "cell_type": "code",
      "source": [
        "# Basic data summary\n",
        "print(\"Dataset Summary:\")\n",
        "print(data.head())"
      ],
      "metadata": {
        "colab": {
          "base_uri": "https://localhost:8080/"
        },
        "id": "Sm8L2oNkQSsk",
        "outputId": "b37620d2-88fe-4a87-c8c8-204f6c0506c7"
      },
      "execution_count": 12,
      "outputs": [
        {
          "output_type": "stream",
          "name": "stdout",
          "text": [
            "Dataset Summary:\n",
            "   Site_Location  Latitude  Longitude            DateTime        WasteType  \\\n",
            "0              1   34.0522  -118.2437 2023-09-01 08:00:00      Recyclables   \n",
            "1              2   34.0522  -118.2437 2023-09-01 09:00:00      Recyclables   \n",
            "2              3   34.0567  -118.2421 2023-09-01 10:00:00          Organic   \n",
            "3              4   34.0567  -118.2421 2023-09-01 11:00:00          Organic   \n",
            "4              5   34.0575  -118.2444 2023-09-01 12:00:00  Non-Recyclables   \n",
            "\n",
            "  CollectionFrequency CollectionCapacity WasteVolume  AQI  PM2.5  PM10   CO  \\\n",
            "0              Weekly         240 liters      180 kg   65     10    20  0.5   \n",
            "1              Weekly         240 liters      150 kg   68     11    21  0.6   \n",
            "2            Biweekly         120 liters       80 kg   72     12    22  0.7   \n",
            "3            Biweekly         120 liters       85 kg   75     13    23  0.8   \n",
            "4               Daily         360 liters      300 kg   85     14    24  0.9   \n",
            "\n",
            "   NO2  SO2  O3  Temperature  Humidity  WindSpeed  Precipitation  \n",
            "0   15    3  30           75         5          0            NaN  \n",
            "1   16    3  31           76         6          0            NaN  \n",
            "2   17    4  32           77         7          0            NaN  \n",
            "3   18    4  33           78         8          0            NaN  \n",
            "4   19    5  34           79         9          0            NaN  \n"
          ]
        }
      ]
    },
    {
      "cell_type": "code",
      "source": [
        "print(\"\\nDataset Information:\")\n",
        "print(data.info())"
      ],
      "metadata": {
        "colab": {
          "base_uri": "https://localhost:8080/"
        },
        "id": "5GZf0qQuQfMu",
        "outputId": "06f3f386-cd4a-4206-ab47-0fb169d05618"
      },
      "execution_count": 13,
      "outputs": [
        {
          "output_type": "stream",
          "name": "stdout",
          "text": [
            "\n",
            "Dataset Information:\n",
            "<class 'pandas.core.frame.DataFrame'>\n",
            "RangeIndex: 15 entries, 0 to 14\n",
            "Data columns (total 19 columns):\n",
            " #   Column               Non-Null Count  Dtype         \n",
            "---  ------               --------------  -----         \n",
            " 0   Site_Location        15 non-null     int64         \n",
            " 1   Latitude             15 non-null     float64       \n",
            " 2   Longitude            15 non-null     float64       \n",
            " 3   DateTime             15 non-null     datetime64[ns]\n",
            " 4   WasteType            15 non-null     object        \n",
            " 5   CollectionFrequency  15 non-null     object        \n",
            " 6   CollectionCapacity   15 non-null     object        \n",
            " 7   WasteVolume          15 non-null     object        \n",
            " 8   AQI                  15 non-null     int64         \n",
            " 9   PM2.5                15 non-null     int64         \n",
            " 10  PM10                 15 non-null     int64         \n",
            " 11  CO                   15 non-null     float64       \n",
            " 12  NO2                  15 non-null     int64         \n",
            " 13  SO2                  15 non-null     int64         \n",
            " 14  O3                   15 non-null     int64         \n",
            " 15  Temperature          15 non-null     int64         \n",
            " 16  Humidity             15 non-null     int64         \n",
            " 17  WindSpeed            15 non-null     int64         \n",
            " 18  Precipitation        0 non-null      float64       \n",
            "dtypes: datetime64[ns](1), float64(4), int64(10), object(4)\n",
            "memory usage: 2.4+ KB\n",
            "None\n"
          ]
        }
      ]
    },
    {
      "cell_type": "code",
      "source": [
        "# Analyze waste management data\n",
        "print(\"\\nWaste Management Summary:\")\n",
        "waste_summary = data[['WasteType', 'CollectionFrequency', 'WasteVolume']].describe()\n",
        "print(waste_summary)\n"
      ],
      "metadata": {
        "colab": {
          "base_uri": "https://localhost:8080/"
        },
        "id": "ZeIVOakxQMcJ",
        "outputId": "4dacaba2-3396-47b9-a67d-6c3a0be445dc"
      },
      "execution_count": 14,
      "outputs": [
        {
          "output_type": "stream",
          "name": "stdout",
          "text": [
            "\n",
            "Waste Management Summary:\n",
            "          WasteType CollectionFrequency WasteVolume\n",
            "count            15                  15          15\n",
            "unique            3                   4          14\n",
            "top     Recyclables              Weekly      200 kg\n",
            "freq              6                   6           2\n"
          ]
        }
      ]
    },
    {
      "cell_type": "code",
      "source": [
        "# Analyze air quality data\n",
        "print(\"\\nAir Quality Summary:\")\n",
        "air_quality_summary = data[['AQI', 'PM2.5', 'CO', 'NO2', 'SO2', 'O3']].describe()\n",
        "print(air_quality_summary)\n",
        "\n"
      ],
      "metadata": {
        "colab": {
          "base_uri": "https://localhost:8080/"
        },
        "id": "YV0EVKyTVi-T",
        "outputId": "09169606-59f7-455b-914f-215fe174fc84"
      },
      "execution_count": 15,
      "outputs": [
        {
          "output_type": "stream",
          "name": "stdout",
          "text": [
            "\n",
            "Air Quality Summary:\n",
            "             AQI      PM2.5         CO        NO2        SO2         O3\n",
            "count  15.000000  15.000000  15.000000  15.000000  15.000000  15.000000\n",
            "mean   77.866667  17.000000   1.200000  22.000000   6.266667  37.000000\n",
            "std     8.105260   4.472136   0.447214   4.472136   2.250926   4.472136\n",
            "min    65.000000  10.000000   0.500000  15.000000   3.000000  30.000000\n",
            "25%    72.000000  13.500000   0.850000  18.500000   4.500000  33.500000\n",
            "50%    78.000000  17.000000   1.200000  22.000000   6.000000  37.000000\n",
            "75%    82.500000  20.500000   1.550000  25.500000   8.000000  40.500000\n",
            "max    92.000000  24.000000   1.900000  29.000000  10.000000  44.000000\n"
          ]
        }
      ]
    },
    {
      "cell_type": "code",
      "source": [
        "# Visualize air quality over time\n",
        "data['DateTime'] = pd.to_datetime(data['DateTime'])\n",
        "data.set_index('DateTime', inplace=True)\n",
        "data[['AQI', 'PM2.5', 'CO', 'NO2', 'SO2', 'O3']].plot(title='Air Quality Over Time')\n",
        "plt.xlabel('DateTime')\n",
        "plt.ylabel('Value')\n",
        "plt.grid()\n",
        "plt.legend(loc='upper left')\n",
        "plt.show()"
      ],
      "metadata": {
        "colab": {
          "base_uri": "https://localhost:8080/",
          "height": 458
        },
        "id": "3GC7WHjSVmdv",
        "outputId": "ac6e1c8d-de7f-4439-e096-d4e1a9ca2f45"
      },
      "execution_count": 16,
      "outputs": [
        {
          "output_type": "display_data",
          "data": {
            "text/plain": [
              "<Figure size 640x480 with 1 Axes>"
            ],
            "image/png": "[encoded data removed]"
          },
          "metadata": {}
        }
      ]
    },
    {
      "cell_type": "markdown",
      "source": [
        "#3rd"
      ],
      "metadata": {
        "id": "Wy5EU4_6QIZ6"
      }
    },
    {
      "cell_type": "code",
      "source": [
        "import pandas as pd\n",
        "from sklearn.model_selection import train_test_split\n",
        "from sklearn.linear_model import LinearRegression\n",
        "from sklearn.metrics import mean_squared_error, r2_score\n",
        "import matplotlib.pyplot as plt"
      ],
      "metadata": {
        "id": "te8tRTGpKM5t"
      },
      "execution_count": 17,
      "outputs": []
    },
    {
      "cell_type": "code",
      "source": [
        "data = pd.read_csv('waste_air_quality_measurement.csv')"
      ],
      "metadata": {
        "id": "Rz3M0EtvXIyV"
      },
      "execution_count": 18,
      "outputs": []
    },
    {
      "cell_type": "code",
      "source": [
        "# Assuming you have features like temperature, humidity, and time\n",
        "X = data[['Temperature', 'Humidity']].values\n",
        "y = data['Site_Location'].values"
      ],
      "metadata": {
        "id": "kuyBnK3iKPpp"
      },
      "execution_count": 19,
      "outputs": []
    },
    {
      "cell_type": "code",
      "source": [
        "# Split the data into training and testing sets\n",
        "X_train, X_test, y_train, y_test = train_test_split(X, y, test_size=0.2, random_state=42)"
      ],
      "metadata": {
        "id": "J4bOfBpIKTbT"
      },
      "execution_count": 20,
      "outputs": []
    },
    {
      "cell_type": "code",
      "source": [
        "\"\"\"\n",
        "if we having issue regaring conversion from string to float or int\n",
        "import pandas as pd\n",
        "\n",
        "# Create a sample DataFrame\n",
        "data = pd.DataFrame({'DateTime': ['2023-09-01 8:00:00', '2023-09-01 09:00:00', '2023-09-01 10:00:00', '2023-09-01 11:00:00', '2023-09-01 12:00:00', '2023-09-01 13:00:00]})\n",
        "\n",
        "# Convert the 'DateTime' column to datetime format\n",
        "data['DateTime'] = pd.to_datetime(data['DateTime'])\n",
        "\n",
        "# Convert the 'DateTime' column to float\n",
        "data['FloatDateTime'] = data['DateTime'].apply(lambda x: float(x.timestamp()))\n",
        "\n",
        "# Print the DataFrame\n",
        "print(data)\n",
        "\"\"\"\n"
      ],
      "metadata": {
        "colab": {
          "base_uri": "https://localhost:8080/",
          "height": 88
        },
        "id": "yxRDmvSjSPXv",
        "outputId": "68adbf3d-5c97-4c87-b317-f6ffef7cab4e"
      },
      "execution_count": 21,
      "outputs": [
        {
          "output_type": "execute_result",
          "data": {
            "text/plain": [
              "\"\\nif we having issue regaring conversion from string to float or int\\nimport pandas as pd\\n\\n# Create a sample DataFrame\\ndata = pd.DataFrame({'DateTime': ['2023-09-01 8:00:00', '2023-09-01 09:00:00', '2023-09-01 10:00:00', '2023-09-01 11:00:00', '2023-09-01 12:00:00', '2023-09-01 13:00:00]})\\n\\n# Convert the 'DateTime' column to datetime format\\ndata['DateTime'] = pd.to_datetime(data['DateTime'])\\n\\n# Convert the 'DateTime' column to float\\ndata['FloatDateTime'] = data['DateTime'].apply(lambda x: float(x.timestamp()))\\n\\n# Print the DataFrame\\nprint(data)\\n\""
            ],
            "application/vnd.google.colaboratory.intrinsic+json": {
              "type": "string"
            }
          },
          "metadata": {},
          "execution_count": 21
        }
      ]
    },
    {
      "cell_type": "code",
      "source": [
        "# Create and train a linear regression model\n",
        "model = LinearRegression()\n",
        "model.fit(X_train, y_train)"
      ],
      "metadata": {
        "id": "vhMYdSO5KR0m",
        "colab": {
          "base_uri": "https://localhost:8080/",
          "height": 74
        },
        "outputId": "ab2a105f-453d-487e-fe4c-9ac5751116a8"
      },
      "execution_count": 22,
      "outputs": [
        {
          "output_type": "execute_result",
          "data": {
            "text/plain": [
              "LinearRegression()"
            ],
            "text/html": [
              "<style>#sk-container-id-1 {color: black;background-color: white;}#sk-container-id-1 pre{padding: 0;}#sk-container-id-1 div.sk-toggleable {background-color: white;}#sk-container-id-1 label.sk-toggleable__label {cursor: pointer;display: block;width: 100%;margin-bottom: 0;padding: 0.3em;box-sizing: border-box;text-align: center;}#sk-container-id-1 label.sk-toggleable__label-arrow:before {content: \"▸\";float: left;margin-right: 0.25em;color: #696969;}#sk-container-id-1 label.sk-toggleable__label-arrow:hover:before {color: black;}#sk-container-id-1 div.sk-estimator:hover label.sk-toggleable__label-arrow:before {color: black;}#sk-container-id-1 div.sk-toggleable__content {max-height: 0;max-width: 0;overflow: hidden;text-align: left;background-color: #f0f8ff;}#sk-container-id-1 div.sk-toggleable__content pre {margin: 0.2em;color: black;border-radius: 0.25em;background-color: #f0f8ff;}#sk-container-id-1 input.sk-toggleable__control:checked~div.sk-toggleable__content {max-height: 200px;max-width: 100%;overflow: auto;}#sk-container-id-1 input.sk-toggleable__control:checked~label.sk-toggleable__label-arrow:before {content: \"▾\";}#sk-container-id-1 div.sk-estimator input.sk-toggleable__control:checked~label.sk-toggleable__label {background-color: #d4ebff;}#sk-container-id-1 div.sk-label input.sk-toggleable__control:checked~label.sk-toggleable__label {background-color: #d4ebff;}#sk-container-id-1 input.sk-hidden--visually {border: 0;clip: rect(1px 1px 1px 1px);clip: rect(1px, 1px, 1px, 1px);height: 1px;margin: -1px;overflow: hidden;padding: 0;position: absolute;width: 1px;}#sk-container-id-1 div.sk-estimator {font-family: monospace;background-color: #f0f8ff;border: 1px dotted black;border-radius: 0.25em;box-sizing: border-box;margin-bottom: 0.5em;}#sk-container-id-1 div.sk-estimator:hover {background-color: #d4ebff;}#sk-container-id-1 div.sk-parallel-item::after {content: \"\";width: 100%;border-bottom: 1px solid gray;flex-grow: 1;}#sk-container-id-1 div.sk-label:hover label.sk-toggleable__label {background-color: #d4ebff;}#sk-container-id-1 div.sk-serial::before {content: \"\";position: absolute;border-left: 1px solid gray;box-sizing: border-box;top: 0;bottom: 0;left: 50%;z-index: 0;}#sk-container-id-1 div.sk-serial {display: flex;flex-direction: column;align-items: center;background-color: white;padding-right: 0.2em;padding-left: 0.2em;position: relative;}#sk-container-id-1 div.sk-item {position: relative;z-index: 1;}#sk-container-id-1 div.sk-parallel {display: flex;align-items: stretch;justify-content: center;background-color: white;position: relative;}#sk-container-id-1 div.sk-item::before, #sk-container-id-1 div.sk-parallel-item::before {content: \"\";position: absolute;border-left: 1px solid gray;box-sizing: border-box;top: 0;bottom: 0;left: 50%;z-index: -1;}#sk-container-id-1 div.sk-parallel-item {display: flex;flex-direction: column;z-index: 1;position: relative;background-color: white;}#sk-container-id-1 div.sk-parallel-item:first-child::after {align-self: flex-end;width: 50%;}#sk-container-id-1 div.sk-parallel-item:last-child::after {align-self: flex-start;width: 50%;}#sk-container-id-1 div.sk-parallel-item:only-child::after {width: 0;}#sk-container-id-1 div.sk-dashed-wrapped {border: 1px dashed gray;margin: 0 0.4em 0.5em 0.4em;box-sizing: border-box;padding-bottom: 0.4em;background-color: white;}#sk-container-id-1 div.sk-label label {font-family: monospace;font-weight: bold;display: inline-block;line-height: 1.2em;}#sk-container-id-1 div.sk-label-container {text-align: center;}#sk-container-id-1 div.sk-container {/* jupyter's `normalize.less` sets `[hidden] { display: none; }` but bootstrap.min.css set `[hidden] { display: none !important; }` so we also need the `!important` here to be able to override the default hidden behavior on the sphinx rendered scikit-learn.org. See: https://github.com/scikit-learn/scikit-learn/issues/21755 */display: inline-block !important;position: relative;}#sk-container-id-1 div.sk-text-repr-fallback {display: none;}</style><div id=\"sk-container-id-1\" class=\"sk-top-container\"><div class=\"sk-text-repr-fallback\"><pre>LinearRegression()</pre><b>In a Jupyter environment, please rerun this cell to show the HTML representation or trust the notebook. <br />On GitHub, the HTML representation is unable to render, please try loading this page with nbviewer.org.</b></div><div class=\"sk-container\" hidden><div class=\"sk-item\"><div class=\"sk-estimator sk-toggleable\"><input class=\"sk-toggleable__control sk-hidden--visually\" id=\"sk-estimator-id-1\" type=\"checkbox\" checked><label for=\"sk-estimator-id-1\" class=\"sk-toggleable__label sk-toggleable__label-arrow\">LinearRegression</label><div class=\"sk-toggleable__content\"><pre>LinearRegression()</pre></div></div></div></div></div>"
            ]
          },
          "metadata": {},
          "execution_count": 22
        }
      ]
    },
    {
      "cell_type": "code",
      "source": [
        "# Make predictions on the test set\n",
        "y_pred = model.predict(X_test)\n",
        "\n"
      ],
      "metadata": {
        "id": "qubFpglsKYJ6"
      },
      "execution_count": 23,
      "outputs": []
    },
    {
      "cell_type": "code",
      "source": [
        "# Evaluate the model\n",
        "mse = mean_squared_error(y_test, y_pred)\n",
        "r2 = r2_score(y_test, y_pred)"
      ],
      "metadata": {
        "id": "dFr84R4_KZRq"
      },
      "execution_count": 24,
      "outputs": []
    },
    {
      "cell_type": "code",
      "source": [
        "print(f\"Mean Squared Error: {mse}\")\n",
        "print(f\"R-squared: {r2}\")"
      ],
      "metadata": {
        "id": "Li2ZIjtcKWxx",
        "colab": {
          "base_uri": "https://localhost:8080/"
        },
        "outputId": "5d2e5662-e396-46a2-8247-6dbb396d3da7"
      },
      "execution_count": 25,
      "outputs": [
        {
          "output_type": "stream",
          "name": "stdout",
          "text": [
            "Mean Squared Error: 3.4183972559577176e-30\n",
            "R-squared: 1.0\n"
          ]
        }
      ]
    },
    {
      "cell_type": "code",
      "source": [
        "# Plot the predicted vs. actual values\n",
        "plt.scatter(y_test, y_pred)\n",
        "plt.xlabel(\"Actual Air Quality Index\")\n",
        "plt.ylabel(\"Predicted Air Quality Index\")\n",
        "plt.title(\"Actual vs. Predicted Air Quality Index\")\n",
        "plt.show()\n"
      ],
      "metadata": {
        "id": "J4uTHJSlKKk0",
        "colab": {
          "base_uri": "https://localhost:8080/",
          "height": 472
        },
        "outputId": "ca4291fa-0884-43a1-e406-43bc4ebbd30c"
      },
      "execution_count": 26,
      "outputs": [
        {
          "output_type": "display_data",
          "data": {
            "text/plain": [
              "<Figure size 640x480 with 1 Axes>"
            ],
            "image/png": "[encoded data removed]"
          },
          "metadata": {}
        }
      ]
    },
    {
      "cell_type": "code",
      "source": [
        "import matplotlib.pyplot as plt\n",
        "\n",
        "\n",
        "pollutants = ['PM2.5', 'PM10', 'NO2', 'CO', 'SO2', 'O3']   ## Sample air quality data (replace with your own data)\n",
        "concentration = [20, 25, 12, 2, 5, 30]\n",
        "\n",
        "# Create a bar graph\n",
        "plt.figure(figsize=(10, 6))  # Adjust the figure size as needed\n",
        "\n",
        "plt.bar(pollutants, concentration, color='skyblue')\n",
        "plt.xlabel('Pollutants')\n",
        "plt.ylabel('Concentration (µg/m³ or ppm)')\n",
        "plt.title('Air Quality by Pollutant')\n",
        "\n",
        "\n",
        "plt.xticks(rotation=45)  # Rotate x-axis labels for better readability\n",
        "plt.grid(axis='y', linestyle='--', alpha=0.7)\n",
        "\n",
        "# Display the graph\n",
        "plt.tight_layout()\n",
        "plt.show()\n"
      ],
      "metadata": {
        "colab": {
          "base_uri": "https://localhost:8080/",
          "height": 607
        },
        "id": "2Ngo15dt5ni9",
        "outputId": "3a945489-1b32-4316-a3dd-c99cefc718ae"
      },
      "execution_count": 27,
      "outputs": [
        {
          "output_type": "display_data",
          "data": {
            "text/plain": [
              "<Figure size 1000x600 with 1 Axes>"
            ],
            "image/png": "[encoded data removed]"
          },
          "metadata": {}
        }
      ]
    },
    {
      "cell_type": "code",
      "source": [],
      "metadata": {
        "id": "XRUtZqdO6nRC"
      },
      "execution_count": null,
      "outputs": []
    }
  ]
}