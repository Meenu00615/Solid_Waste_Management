{
  "cells": [
    {
      "cell_type": "markdown",
      "metadata": {
        "id": "hmzjWXEIYQbD"
      },
      "source": [
        "#clustering based"
      ]
    },
    {
      "cell_type": "markdown",
      "metadata": {
        "id": "nieQyr28YuM8"
      },
      "source": [
        "#1st"
      ]
    },
    {
      "cell_type": "code",
      "execution_count": null,
      "metadata": {
        "colab": {
          "background_save": true
        },
        "id": "8G5b2NoKIgN6"
      },
      "outputs": [],
      "source": [
        "import folium    #interactive map for the data visulization\n",
        "import pandas as pd\n",
        "from sklearn.cluster import KMeans\n",
        "\n",
        "# Load the sample dataset\n",
        "data = pd.read_csv('waste_data.csv')\n",
        "\n",
        "# Extract latitude and longitude columns\n",
        "coordinates = data[['Latitude', 'Longitude']]"
      ]
    },
    {
      "cell_type": "code",
      "execution_count": null,
      "metadata": {
        "colab": {
          "background_save": true
        },
        "id": "x7SPK5j0IiBC"
      },
      "outputs": [],
      "source": [
        "# Number of clusters (you can adjust this based on your needs)\n",
        "num_clusters = 5"
      ]
    },
    {
      "cell_type": "code",
      "execution_count": null,
      "metadata": {
        "colab": {
          "background_save": true
        },
        "id": "dkKQlZ3jIj0R",
        "outputId": "4ab0c45d-8c35-4363-b54b-e7cb0ea31d11"
      },
      "outputs": [
        {
          "name": "stderr",
          "output_type": "stream",
          "text": [
            "/usr/local/lib/python3.10/dist-packages/sklearn/cluster/_kmeans.py:870: FutureWarning: The default value of `n_init` will change from 10 to 'auto' in 1.4. Set the value of `n_init` explicitly to suppress the warning\n",
            "  warnings.warn(\n"
          ]
        }
      ],
      "source": [
        "# Create a K-Means clustering model\n",
        "kmeans = KMeans(n_clusters=num_clusters, random_state=0)\n",
        "data['Cluster'] = kmeans.fit_predict(coordinates)"
      ]
    },
    {
      "cell_type": "code",
      "execution_count": null,
      "metadata": {
        "colab": {
          "background_save": true
        },
        "id": "ipUEGAVvIlL1"
      },
      "outputs": [],
      "source": [
        "# Create a folium map centered at a location within your dataset\n",
        "map_center = [data['Latitude'].mean(), data['Longitude'].mean()]\n",
        "m = folium.Map(location=map_center, zoom_start=13)"
      ]
    },
    {
      "cell_type": "code",
      "execution_count": null,
      "metadata": {
        "colab": {
          "background_save": true
        },
        "id": "KCunfR6EInQe"
      },
      "outputs": [],
      "source": [
        "# Define cluster colors\n",
        "cluster_colors = ['red', 'blue', 'green', 'purple', 'orange']"
      ]
    },
    {
      "cell_type": "code",
      "execution_count": null,
      "metadata": {
        "colab": {
          "background_save": true
        },
        "id": "lhc9MXmMIYgM",
        "outputId": "43ee3399-feb8-434c-b291-1fcad7ea7ec1"
      },
      "outputs": [
        {
          "data": {
            "text/html": [
              "<div style=\"width:100%;\"><div style=\"position:relative;width:100%;height:0;padding-bottom:60%;\"><span style=\"color:#565656\">Make this Notebook Trusted to load map: File -> Trust Notebook</span><iframe srcdoc=\"&lt;!DOCTYPE html&gt;\n",
              "&lt;html&gt;\n",
              "&lt;head&gt;\n",
              "    \n",
              "    &lt;meta http-equiv=&quot;content-type&quot; content=&quot;text/html; charset=UTF-8&quot; /&gt;\n",
              "    \n",
              "        &lt;script&gt;\n",
              "            L_NO_TOUCH = false;\n",
              "            L_DISABLE_3D = false;\n",
              "        &lt;/script&gt;\n",
              "    \n",
              "    &lt;style&gt;html, body {width: 100%;height: 100%;margin: 0;padding: 0;}&lt;/style&gt;\n",
              "    &lt;style&gt;#map {position:absolute;top:0;bottom:0;right:0;left:0;}&lt;/style&gt;\n",
              "    &lt;script src=&quot;https://cdn.jsdelivr.net/npm/leaflet@1.9.3/dist/leaflet.js&quot;&gt;&lt;/script&gt;\n",
              "    &lt;script src=&quot;https://code.jquery.com/jquery-1.12.4.min.js&quot;&gt;&lt;/script&gt;\n",
              "    &lt;script src=&quot;https://cdn.jsdelivr.net/npm/bootstrap@5.2.2/dist/js/bootstrap.bundle.min.js&quot;&gt;&lt;/script&gt;\n",
              "    &lt;script src=&quot;https://cdnjs.cloudflare.com/ajax/libs/Leaflet.awesome-markers/2.0.2/leaflet.awesome-markers.js&quot;&gt;&lt;/script&gt;\n",
              "    &lt;link rel=&quot;stylesheet&quot; href=&quot;https://cdn.jsdelivr.net/npm/leaflet@1.9.3/dist/leaflet.css&quot;/&gt;\n",
              "    &lt;link rel=&quot;stylesheet&quot; href=&quot;https://cdn.jsdelivr.net/npm/bootstrap@5.2.2/dist/css/bootstrap.min.css&quot;/&gt;\n",
              "    &lt;link rel=&quot;stylesheet&quot; href=&quot;https://netdna.bootstrapcdn.com/bootstrap/3.0.0/css/bootstrap.min.css&quot;/&gt;\n",
              "    &lt;link rel=&quot;stylesheet&quot; href=&quot;https://cdn.jsdelivr.net/npm/@fortawesome/fontawesome-free@6.2.0/css/all.min.css&quot;/&gt;\n",
              "    &lt;link rel=&quot;stylesheet&quot; href=&quot;https://cdnjs.cloudflare.com/ajax/libs/Leaflet.awesome-markers/2.0.2/leaflet.awesome-markers.css&quot;/&gt;\n",
              "    &lt;link rel=&quot;stylesheet&quot; href=&quot;https://cdn.jsdelivr.net/gh/python-visualization/folium/folium/templates/leaflet.awesome.rotate.min.css&quot;/&gt;\n",
              "    \n",
              "            &lt;meta name=&quot;viewport&quot; content=&quot;width=device-width,\n",
              "                initial-scale=1.0, maximum-scale=1.0, user-scalable=no&quot; /&gt;\n",
              "            &lt;style&gt;\n",
              "                #map_92f3e71477c751d01fc2fe5a3883f27c {\n",
              "                    position: relative;\n",
              "                    width: 100.0%;\n",
              "                    height: 100.0%;\n",
              "                    left: 0.0%;\n",
              "                    top: 0.0%;\n",
              "                }\n",
              "                .leaflet-container { font-size: 1rem; }\n",
              "            &lt;/style&gt;\n",
              "        \n",
              "&lt;/head&gt;\n",
              "&lt;body&gt;\n",
              "    \n",
              "    \n",
              "            &lt;div class=&quot;folium-map&quot; id=&quot;map_92f3e71477c751d01fc2fe5a3883f27c&quot; &gt;&lt;/div&gt;\n",
              "        \n",
              "&lt;/body&gt;\n",
              "&lt;script&gt;\n",
              "    \n",
              "    \n",
              "            var map_92f3e71477c751d01fc2fe5a3883f27c = L.map(\n",
              "                &quot;map_92f3e71477c751d01fc2fe5a3883f27c&quot;,\n",
              "                {\n",
              "                    center: [30.726646666666667, 76.76652666666668],\n",
              "                    crs: L.CRS.EPSG3857,\n",
              "                    zoom: 13,\n",
              "                    zoomControl: true,\n",
              "                    preferCanvas: false,\n",
              "                }\n",
              "            );\n",
              "\n",
              "            \n",
              "\n",
              "        \n",
              "    \n",
              "            var tile_layer_72d32005445aab1aa446501bfc2015c2 = L.tileLayer(\n",
              "                &quot;https://{s}.tile.openstreetmap.org/{z}/{x}/{y}.png&quot;,\n",
              "                {&quot;attribution&quot;: &quot;Data by \\u0026copy; \\u003ca target=\\&quot;_blank\\&quot; href=\\&quot;http://openstreetmap.org\\&quot;\\u003eOpenStreetMap\\u003c/a\\u003e, under \\u003ca target=\\&quot;_blank\\&quot; href=\\&quot;http://www.openstreetmap.org/copyright\\&quot;\\u003eODbL\\u003c/a\\u003e.&quot;, &quot;detectRetina&quot;: false, &quot;maxNativeZoom&quot;: 18, &quot;maxZoom&quot;: 18, &quot;minZoom&quot;: 0, &quot;noWrap&quot;: false, &quot;opacity&quot;: 1, &quot;subdomains&quot;: &quot;abc&quot;, &quot;tms&quot;: false}\n",
              "            ).addTo(map_92f3e71477c751d01fc2fe5a3883f27c);\n",
              "        \n",
              "    \n",
              "            var circle_marker_67e0449a92ec5b24f48e790054d234fb = L.circleMarker(\n",
              "                [30.7296, 76.7832],\n",
              "                {&quot;bubblingMouseEvents&quot;: true, &quot;color&quot;: &quot;red&quot;, &quot;dashArray&quot;: null, &quot;dashOffset&quot;: null, &quot;fill&quot;: true, &quot;fillColor&quot;: &quot;red&quot;, &quot;fillOpacity&quot;: 0.7, &quot;fillRule&quot;: &quot;evenodd&quot;, &quot;lineCap&quot;: &quot;round&quot;, &quot;lineJoin&quot;: &quot;round&quot;, &quot;opacity&quot;: 1.0, &quot;radius&quot;: 5, &quot;stroke&quot;: true, &quot;weight&quot;: 3}\n",
              "            ).addTo(map_92f3e71477c751d01fc2fe5a3883f27c);\n",
              "        \n",
              "    \n",
              "        var popup_05913e5b5f77a3a73559c9703aa79459 = L.popup({&quot;maxWidth&quot;: &quot;100%&quot;});\n",
              "\n",
              "        \n",
              "            \n",
              "                var html_e2b8efc8979860e31eb09fe85696ff64 = $(`&lt;div id=&quot;html_e2b8efc8979860e31eb09fe85696ff64&quot; style=&quot;width: 100.0%; height: 100.0%;&quot;&gt;Cluster: 0, Type: Recyclables, Volume: 180 kg&lt;/div&gt;`)[0];\n",
              "                popup_05913e5b5f77a3a73559c9703aa79459.setContent(html_e2b8efc8979860e31eb09fe85696ff64);\n",
              "            \n",
              "        \n",
              "\n",
              "        circle_marker_67e0449a92ec5b24f48e790054d234fb.bindPopup(popup_05913e5b5f77a3a73559c9703aa79459)\n",
              "        ;\n",
              "\n",
              "        \n",
              "    \n",
              "    \n",
              "            var circle_marker_b84ab80c90e4d23d5f8cb1bd3199e43f = L.circleMarker(\n",
              "                [30.7271, 76.7837],\n",
              "                {&quot;bubblingMouseEvents&quot;: true, &quot;color&quot;: &quot;red&quot;, &quot;dashArray&quot;: null, &quot;dashOffset&quot;: null, &quot;fill&quot;: true, &quot;fillColor&quot;: &quot;red&quot;, &quot;fillOpacity&quot;: 0.7, &quot;fillRule&quot;: &quot;evenodd&quot;, &quot;lineCap&quot;: &quot;round&quot;, &quot;lineJoin&quot;: &quot;round&quot;, &quot;opacity&quot;: 1.0, &quot;radius&quot;: 5, &quot;stroke&quot;: true, &quot;weight&quot;: 3}\n",
              "            ).addTo(map_92f3e71477c751d01fc2fe5a3883f27c);\n",
              "        \n",
              "    \n",
              "        var popup_d90bc496052efe6cc6a896329e4d990a = L.popup({&quot;maxWidth&quot;: &quot;100%&quot;});\n",
              "\n",
              "        \n",
              "            \n",
              "                var html_3e6b54e4779eadcbb8cd4df4af36ca52 = $(`&lt;div id=&quot;html_3e6b54e4779eadcbb8cd4df4af36ca52&quot; style=&quot;width: 100.0%; height: 100.0%;&quot;&gt;Cluster: 0, Type: Organic, Volume: 80 kg&lt;/div&gt;`)[0];\n",
              "                popup_d90bc496052efe6cc6a896329e4d990a.setContent(html_3e6b54e4779eadcbb8cd4df4af36ca52);\n",
              "            \n",
              "        \n",
              "\n",
              "        circle_marker_b84ab80c90e4d23d5f8cb1bd3199e43f.bindPopup(popup_d90bc496052efe6cc6a896329e4d990a)\n",
              "        ;\n",
              "\n",
              "        \n",
              "    \n",
              "    \n",
              "            var circle_marker_cf60c8e1801ea310ba65aef5e68da2d7 = L.circleMarker(\n",
              "                [30.7261, 76.7827],\n",
              "                {&quot;bubblingMouseEvents&quot;: true, &quot;color&quot;: &quot;red&quot;, &quot;dashArray&quot;: null, &quot;dashOffset&quot;: null, &quot;fill&quot;: true, &quot;fillColor&quot;: &quot;red&quot;, &quot;fillOpacity&quot;: 0.7, &quot;fillRule&quot;: &quot;evenodd&quot;, &quot;lineCap&quot;: &quot;round&quot;, &quot;lineJoin&quot;: &quot;round&quot;, &quot;opacity&quot;: 1.0, &quot;radius&quot;: 5, &quot;stroke&quot;: true, &quot;weight&quot;: 3}\n",
              "            ).addTo(map_92f3e71477c751d01fc2fe5a3883f27c);\n",
              "        \n",
              "    \n",
              "        var popup_14b99301d7ee4ca20ac44247d482d5f9 = L.popup({&quot;maxWidth&quot;: &quot;100%&quot;});\n",
              "\n",
              "        \n",
              "            \n",
              "                var html_b74d1497b4ffe898263aa2ca0ab7d266 = $(`&lt;div id=&quot;html_b74d1497b4ffe898263aa2ca0ab7d266&quot; style=&quot;width: 100.0%; height: 100.0%;&quot;&gt;Cluster: 0, Type: Non-Recyclables, Volume: 300 kg&lt;/div&gt;`)[0];\n",
              "                popup_14b99301d7ee4ca20ac44247d482d5f9.setContent(html_b74d1497b4ffe898263aa2ca0ab7d266);\n",
              "            \n",
              "        \n",
              "\n",
              "        circle_marker_cf60c8e1801ea310ba65aef5e68da2d7.bindPopup(popup_14b99301d7ee4ca20ac44247d482d5f9)\n",
              "        ;\n",
              "\n",
              "        \n",
              "    \n",
              "    \n",
              "            var circle_marker_24af3a9324d37e6d6142e61f594b42f9 = L.circleMarker(\n",
              "                [30.7244, 76.7527],\n",
              "                {&quot;bubblingMouseEvents&quot;: true, &quot;color&quot;: &quot;blue&quot;, &quot;dashArray&quot;: null, &quot;dashOffset&quot;: null, &quot;fill&quot;: true, &quot;fillColor&quot;: &quot;blue&quot;, &quot;fillOpacity&quot;: 0.7, &quot;fillRule&quot;: &quot;evenodd&quot;, &quot;lineCap&quot;: &quot;round&quot;, &quot;lineJoin&quot;: &quot;round&quot;, &quot;opacity&quot;: 1.0, &quot;radius&quot;: 5, &quot;stroke&quot;: true, &quot;weight&quot;: 3}\n",
              "            ).addTo(map_92f3e71477c751d01fc2fe5a3883f27c);\n",
              "        \n",
              "    \n",
              "        var popup_1e9f8aabd1571fa60354a4e5d6b38884 = L.popup({&quot;maxWidth&quot;: &quot;100%&quot;});\n",
              "\n",
              "        \n",
              "            \n",
              "                var html_48d12ec45fe46555c8e5e4406bc1ca8f = $(`&lt;div id=&quot;html_48d12ec45fe46555c8e5e4406bc1ca8f&quot; style=&quot;width: 100.0%; height: 100.0%;&quot;&gt;Cluster: 1, Type: Recyclables, Volume: 170 kg&lt;/div&gt;`)[0];\n",
              "                popup_1e9f8aabd1571fa60354a4e5d6b38884.setContent(html_48d12ec45fe46555c8e5e4406bc1ca8f);\n",
              "            \n",
              "        \n",
              "\n",
              "        circle_marker_24af3a9324d37e6d6142e61f594b42f9.bindPopup(popup_1e9f8aabd1571fa60354a4e5d6b38884)\n",
              "        ;\n",
              "\n",
              "        \n",
              "    \n",
              "    \n",
              "            var circle_marker_5a97b2efd54fe8308b33bb50a6a8c9df = L.circleMarker(\n",
              "                [30.7244, 76.753],\n",
              "                {&quot;bubblingMouseEvents&quot;: true, &quot;color&quot;: &quot;blue&quot;, &quot;dashArray&quot;: null, &quot;dashOffset&quot;: null, &quot;fill&quot;: true, &quot;fillColor&quot;: &quot;blue&quot;, &quot;fillOpacity&quot;: 0.7, &quot;fillRule&quot;: &quot;evenodd&quot;, &quot;lineCap&quot;: &quot;round&quot;, &quot;lineJoin&quot;: &quot;round&quot;, &quot;opacity&quot;: 1.0, &quot;radius&quot;: 5, &quot;stroke&quot;: true, &quot;weight&quot;: 3}\n",
              "            ).addTo(map_92f3e71477c751d01fc2fe5a3883f27c);\n",
              "        \n",
              "    \n",
              "        var popup_90d74b0e670a28f2466ca48e08f6f592 = L.popup({&quot;maxWidth&quot;: &quot;100%&quot;});\n",
              "\n",
              "        \n",
              "            \n",
              "                var html_7fae25bcb141032528f82e4871929661 = $(`&lt;div id=&quot;html_7fae25bcb141032528f82e4871929661&quot; style=&quot;width: 100.0%; height: 100.0%;&quot;&gt;Cluster: 1, Type: Organic, Volume: 70 kg&lt;/div&gt;`)[0];\n",
              "                popup_90d74b0e670a28f2466ca48e08f6f592.setContent(html_7fae25bcb141032528f82e4871929661);\n",
              "            \n",
              "        \n",
              "\n",
              "        circle_marker_5a97b2efd54fe8308b33bb50a6a8c9df.bindPopup(popup_90d74b0e670a28f2466ca48e08f6f592)\n",
              "        ;\n",
              "\n",
              "        \n",
              "    \n",
              "    \n",
              "            var circle_marker_8d23a0d825c1c2ea061b87bb88db9461 = L.circleMarker(\n",
              "                [30.7251, 76.7508],\n",
              "                {&quot;bubblingMouseEvents&quot;: true, &quot;color&quot;: &quot;blue&quot;, &quot;dashArray&quot;: null, &quot;dashOffset&quot;: null, &quot;fill&quot;: true, &quot;fillColor&quot;: &quot;blue&quot;, &quot;fillOpacity&quot;: 0.7, &quot;fillRule&quot;: &quot;evenodd&quot;, &quot;lineCap&quot;: &quot;round&quot;, &quot;lineJoin&quot;: &quot;round&quot;, &quot;opacity&quot;: 1.0, &quot;radius&quot;: 5, &quot;stroke&quot;: true, &quot;weight&quot;: 3}\n",
              "            ).addTo(map_92f3e71477c751d01fc2fe5a3883f27c);\n",
              "        \n",
              "    \n",
              "        var popup_bbb92a2edb59427a2d7e57ba321e1838 = L.popup({&quot;maxWidth&quot;: &quot;100%&quot;});\n",
              "\n",
              "        \n",
              "            \n",
              "                var html_6be3552abcd94119e2eeb06456f73efc = $(`&lt;div id=&quot;html_6be3552abcd94119e2eeb06456f73efc&quot; style=&quot;width: 100.0%; height: 100.0%;&quot;&gt;Cluster: 1, Type: Non-Recyclables, Volume: 310 kg&lt;/div&gt;`)[0];\n",
              "                popup_bbb92a2edb59427a2d7e57ba321e1838.setContent(html_6be3552abcd94119e2eeb06456f73efc);\n",
              "            \n",
              "        \n",
              "\n",
              "        circle_marker_8d23a0d825c1c2ea061b87bb88db9461.bindPopup(popup_bbb92a2edb59427a2d7e57ba321e1838)\n",
              "        ;\n",
              "\n",
              "        \n",
              "    \n",
              "    \n",
              "            var circle_marker_6f9e193c7a2196128b98aa8e0388ddab = L.circleMarker(\n",
              "                [30.7253, 76.7506],\n",
              "                {&quot;bubblingMouseEvents&quot;: true, &quot;color&quot;: &quot;blue&quot;, &quot;dashArray&quot;: null, &quot;dashOffset&quot;: null, &quot;fill&quot;: true, &quot;fillColor&quot;: &quot;blue&quot;, &quot;fillOpacity&quot;: 0.7, &quot;fillRule&quot;: &quot;evenodd&quot;, &quot;lineCap&quot;: &quot;round&quot;, &quot;lineJoin&quot;: &quot;round&quot;, &quot;opacity&quot;: 1.0, &quot;radius&quot;: 5, &quot;stroke&quot;: true, &quot;weight&quot;: 3}\n",
              "            ).addTo(map_92f3e71477c751d01fc2fe5a3883f27c);\n",
              "        \n",
              "    \n",
              "        var popup_ad49a4c12cbd65a987e3fc20433ad05a = L.popup({&quot;maxWidth&quot;: &quot;100%&quot;});\n",
              "\n",
              "        \n",
              "            \n",
              "                var html_1238af05536547cfc59648ba0b3f474d = $(`&lt;div id=&quot;html_1238af05536547cfc59648ba0b3f474d&quot; style=&quot;width: 100.0%; height: 100.0%;&quot;&gt;Cluster: 1, Type: Recyclables, Volume: 210 kg&lt;/div&gt;`)[0];\n",
              "                popup_ad49a4c12cbd65a987e3fc20433ad05a.setContent(html_1238af05536547cfc59648ba0b3f474d);\n",
              "            \n",
              "        \n",
              "\n",
              "        circle_marker_6f9e193c7a2196128b98aa8e0388ddab.bindPopup(popup_ad49a4c12cbd65a987e3fc20433ad05a)\n",
              "        ;\n",
              "\n",
              "        \n",
              "    \n",
              "    \n",
              "            var circle_marker_5bcc7f9750fe197b63720699fba306c6 = L.circleMarker(\n",
              "                [30.7267, 76.7528],\n",
              "                {&quot;bubblingMouseEvents&quot;: true, &quot;color&quot;: &quot;blue&quot;, &quot;dashArray&quot;: null, &quot;dashOffset&quot;: null, &quot;fill&quot;: true, &quot;fillColor&quot;: &quot;blue&quot;, &quot;fillOpacity&quot;: 0.7, &quot;fillRule&quot;: &quot;evenodd&quot;, &quot;lineCap&quot;: &quot;round&quot;, &quot;lineJoin&quot;: &quot;round&quot;, &quot;opacity&quot;: 1.0, &quot;radius&quot;: 5, &quot;stroke&quot;: true, &quot;weight&quot;: 3}\n",
              "            ).addTo(map_92f3e71477c751d01fc2fe5a3883f27c);\n",
              "        \n",
              "    \n",
              "        var popup_4e7942c1b3595baef8cff6c0e6ebc03f = L.popup({&quot;maxWidth&quot;: &quot;100%&quot;});\n",
              "\n",
              "        \n",
              "            \n",
              "                var html_a23e5bc054c9f36f4e1189ed40ff1c58 = $(`&lt;div id=&quot;html_a23e5bc054c9f36f4e1189ed40ff1c58&quot; style=&quot;width: 100.0%; height: 100.0%;&quot;&gt;Cluster: 1, Type: Organic, Volume: 100 kg&lt;/div&gt;`)[0];\n",
              "                popup_4e7942c1b3595baef8cff6c0e6ebc03f.setContent(html_a23e5bc054c9f36f4e1189ed40ff1c58);\n",
              "            \n",
              "        \n",
              "\n",
              "        circle_marker_5bcc7f9750fe197b63720699fba306c6.bindPopup(popup_4e7942c1b3595baef8cff6c0e6ebc03f)\n",
              "        ;\n",
              "\n",
              "        \n",
              "    \n",
              "    \n",
              "            var circle_marker_f77f7f10f034d7231d97f018d9c8d716 = L.circleMarker(\n",
              "                [30.7266, 76.7531],\n",
              "                {&quot;bubblingMouseEvents&quot;: true, &quot;color&quot;: &quot;blue&quot;, &quot;dashArray&quot;: null, &quot;dashOffset&quot;: null, &quot;fill&quot;: true, &quot;fillColor&quot;: &quot;blue&quot;, &quot;fillOpacity&quot;: 0.7, &quot;fillRule&quot;: &quot;evenodd&quot;, &quot;lineCap&quot;: &quot;round&quot;, &quot;lineJoin&quot;: &quot;round&quot;, &quot;opacity&quot;: 1.0, &quot;radius&quot;: 5, &quot;stroke&quot;: true, &quot;weight&quot;: 3}\n",
              "            ).addTo(map_92f3e71477c751d01fc2fe5a3883f27c);\n",
              "        \n",
              "    \n",
              "        var popup_1822103efc8faf59593a1b8942165b13 = L.popup({&quot;maxWidth&quot;: &quot;100%&quot;});\n",
              "\n",
              "        \n",
              "            \n",
              "                var html_d37dc054c3edd64af805a8ffa248e04d = $(`&lt;div id=&quot;html_d37dc054c3edd64af805a8ffa248e04d&quot; style=&quot;width: 100.0%; height: 100.0%;&quot;&gt;Cluster: 1, Type: Non-Recyclables, Volume: 260 kg&lt;/div&gt;`)[0];\n",
              "                popup_1822103efc8faf59593a1b8942165b13.setContent(html_d37dc054c3edd64af805a8ffa248e04d);\n",
              "            \n",
              "        \n",
              "\n",
              "        circle_marker_f77f7f10f034d7231d97f018d9c8d716.bindPopup(popup_1822103efc8faf59593a1b8942165b13)\n",
              "        ;\n",
              "\n",
              "        \n",
              "    \n",
              "    \n",
              "            var circle_marker_0b598a7a892adb00c8e70a3e826bff52 = L.circleMarker(\n",
              "                [30.727, 76.7699],\n",
              "                {&quot;bubblingMouseEvents&quot;: true, &quot;color&quot;: &quot;green&quot;, &quot;dashArray&quot;: null, &quot;dashOffset&quot;: null, &quot;fill&quot;: true, &quot;fillColor&quot;: &quot;green&quot;, &quot;fillOpacity&quot;: 0.7, &quot;fillRule&quot;: &quot;evenodd&quot;, &quot;lineCap&quot;: &quot;round&quot;, &quot;lineJoin&quot;: &quot;round&quot;, &quot;opacity&quot;: 1.0, &quot;radius&quot;: 5, &quot;stroke&quot;: true, &quot;weight&quot;: 3}\n",
              "            ).addTo(map_92f3e71477c751d01fc2fe5a3883f27c);\n",
              "        \n",
              "    \n",
              "        var popup_c165789c93ea1783709a415a7d7f2189 = L.popup({&quot;maxWidth&quot;: &quot;100%&quot;});\n",
              "\n",
              "        \n",
              "            \n",
              "                var html_689b9ce4d6813a716fe236b5b455192b = $(`&lt;div id=&quot;html_689b9ce4d6813a716fe236b5b455192b&quot; style=&quot;width: 100.0%; height: 100.0%;&quot;&gt;Cluster: 2, Type: Non-Recyclables, Volume: 320 kg&lt;/div&gt;`)[0];\n",
              "                popup_c165789c93ea1783709a415a7d7f2189.setContent(html_689b9ce4d6813a716fe236b5b455192b);\n",
              "            \n",
              "        \n",
              "\n",
              "        circle_marker_0b598a7a892adb00c8e70a3e826bff52.bindPopup(popup_c165789c93ea1783709a415a7d7f2189)\n",
              "        ;\n",
              "\n",
              "        \n",
              "    \n",
              "    \n",
              "            var circle_marker_60a772b9eeeae84e1af4023d90174d3b = L.circleMarker(\n",
              "                [30.727, 76.7679],\n",
              "                {&quot;bubblingMouseEvents&quot;: true, &quot;color&quot;: &quot;green&quot;, &quot;dashArray&quot;: null, &quot;dashOffset&quot;: null, &quot;fill&quot;: true, &quot;fillColor&quot;: &quot;green&quot;, &quot;fillOpacity&quot;: 0.7, &quot;fillRule&quot;: &quot;evenodd&quot;, &quot;lineCap&quot;: &quot;round&quot;, &quot;lineJoin&quot;: &quot;round&quot;, &quot;opacity&quot;: 1.0, &quot;radius&quot;: 5, &quot;stroke&quot;: true, &quot;weight&quot;: 3}\n",
              "            ).addTo(map_92f3e71477c751d01fc2fe5a3883f27c);\n",
              "        \n",
              "    \n",
              "        var popup_1802480651e902317f6818e854669e32 = L.popup({&quot;maxWidth&quot;: &quot;100%&quot;});\n",
              "\n",
              "        \n",
              "            \n",
              "                var html_1cf74d1e4171d0709ddb96ecd8e8ad1d = $(`&lt;div id=&quot;html_1cf74d1e4171d0709ddb96ecd8e8ad1d&quot; style=&quot;width: 100.0%; height: 100.0%;&quot;&gt;Cluster: 2, Type: Recyclables, Volume: 200 kg&lt;/div&gt;`)[0];\n",
              "                popup_1802480651e902317f6818e854669e32.setContent(html_1cf74d1e4171d0709ddb96ecd8e8ad1d);\n",
              "            \n",
              "        \n",
              "\n",
              "        circle_marker_60a772b9eeeae84e1af4023d90174d3b.bindPopup(popup_1802480651e902317f6818e854669e32)\n",
              "        ;\n",
              "\n",
              "        \n",
              "    \n",
              "    \n",
              "            var circle_marker_24e3de25ddd4655f980abdeb34b6aa9f = L.circleMarker(\n",
              "                [30.7276, 76.7671],\n",
              "                {&quot;bubblingMouseEvents&quot;: true, &quot;color&quot;: &quot;green&quot;, &quot;dashArray&quot;: null, &quot;dashOffset&quot;: null, &quot;fill&quot;: true, &quot;fillColor&quot;: &quot;green&quot;, &quot;fillOpacity&quot;: 0.7, &quot;fillRule&quot;: &quot;evenodd&quot;, &quot;lineCap&quot;: &quot;round&quot;, &quot;lineJoin&quot;: &quot;round&quot;, &quot;opacity&quot;: 1.0, &quot;radius&quot;: 5, &quot;stroke&quot;: true, &quot;weight&quot;: 3}\n",
              "            ).addTo(map_92f3e71477c751d01fc2fe5a3883f27c);\n",
              "        \n",
              "    \n",
              "        var popup_84ac22109f45a4b8148fe562779181c5 = L.popup({&quot;maxWidth&quot;: &quot;100%&quot;});\n",
              "\n",
              "        \n",
              "            \n",
              "                var html_0abdffda9ff1357ff3a80f5ab73f1549 = $(`&lt;div id=&quot;html_0abdffda9ff1357ff3a80f5ab73f1549&quot; style=&quot;width: 100.0%; height: 100.0%;&quot;&gt;Cluster: 2, Type: Organic, Volume: 90 kg&lt;/div&gt;`)[0];\n",
              "                popup_84ac22109f45a4b8148fe562779181c5.setContent(html_0abdffda9ff1357ff3a80f5ab73f1549);\n",
              "            \n",
              "        \n",
              "\n",
              "        circle_marker_24e3de25ddd4655f980abdeb34b6aa9f.bindPopup(popup_84ac22109f45a4b8148fe562779181c5)\n",
              "        ;\n",
              "\n",
              "        \n",
              "    \n",
              "    \n",
              "            var circle_marker_aba26a8d271d6b48aa74e52d27e97c86 = L.circleMarker(\n",
              "                [30.7256, 76.7675],\n",
              "                {&quot;bubblingMouseEvents&quot;: true, &quot;color&quot;: &quot;green&quot;, &quot;dashArray&quot;: null, &quot;dashOffset&quot;: null, &quot;fill&quot;: true, &quot;fillColor&quot;: &quot;green&quot;, &quot;fillOpacity&quot;: 0.7, &quot;fillRule&quot;: &quot;evenodd&quot;, &quot;lineCap&quot;: &quot;round&quot;, &quot;lineJoin&quot;: &quot;round&quot;, &quot;opacity&quot;: 1.0, &quot;radius&quot;: 5, &quot;stroke&quot;: true, &quot;weight&quot;: 3}\n",
              "            ).addTo(map_92f3e71477c751d01fc2fe5a3883f27c);\n",
              "        \n",
              "    \n",
              "        var popup_1b26ceb421f83db7f0f8ac7c8a13f19e = L.popup({&quot;maxWidth&quot;: &quot;100%&quot;});\n",
              "\n",
              "        \n",
              "            \n",
              "                var html_06c26678217b5feb2addb453447bf3ba = $(`&lt;div id=&quot;html_06c26678217b5feb2addb453447bf3ba&quot; style=&quot;width: 100.0%; height: 100.0%;&quot;&gt;Cluster: 2, Type: Non-Recyclables, Volume: 280 kg&lt;/div&gt;`)[0];\n",
              "                popup_1b26ceb421f83db7f0f8ac7c8a13f19e.setContent(html_06c26678217b5feb2addb453447bf3ba);\n",
              "            \n",
              "        \n",
              "\n",
              "        circle_marker_aba26a8d271d6b48aa74e52d27e97c86.bindPopup(popup_1b26ceb421f83db7f0f8ac7c8a13f19e)\n",
              "        ;\n",
              "\n",
              "        \n",
              "    \n",
              "    \n",
              "            var circle_marker_e746d2c9585099951b500ef8b68b6de7 = L.circleMarker(\n",
              "                [30.7314, 76.7767],\n",
              "                {&quot;bubblingMouseEvents&quot;: true, &quot;color&quot;: &quot;purple&quot;, &quot;dashArray&quot;: null, &quot;dashOffset&quot;: null, &quot;fill&quot;: true, &quot;fillColor&quot;: &quot;purple&quot;, &quot;fillOpacity&quot;: 0.7, &quot;fillRule&quot;: &quot;evenodd&quot;, &quot;lineCap&quot;: &quot;round&quot;, &quot;lineJoin&quot;: &quot;round&quot;, &quot;opacity&quot;: 1.0, &quot;radius&quot;: 5, &quot;stroke&quot;: true, &quot;weight&quot;: 3}\n",
              "            ).addTo(map_92f3e71477c751d01fc2fe5a3883f27c);\n",
              "        \n",
              "    \n",
              "        var popup_c630b4e5361f380c6adce602af14e806 = L.popup({&quot;maxWidth&quot;: &quot;100%&quot;});\n",
              "\n",
              "        \n",
              "            \n",
              "                var html_72e3b2fabae2e187c33a01bf6fcc8f84 = $(`&lt;div id=&quot;html_72e3b2fabae2e187c33a01bf6fcc8f84&quot; style=&quot;width: 100.0%; height: 100.0%;&quot;&gt;Cluster: 3, Type: Organic, Volume: 60 kg&lt;/div&gt;`)[0];\n",
              "                popup_c630b4e5361f380c6adce602af14e806.setContent(html_72e3b2fabae2e187c33a01bf6fcc8f84);\n",
              "            \n",
              "        \n",
              "\n",
              "        circle_marker_e746d2c9585099951b500ef8b68b6de7.bindPopup(popup_c630b4e5361f380c6adce602af14e806)\n",
              "        ;\n",
              "\n",
              "        \n",
              "    \n",
              "    \n",
              "            var circle_marker_fe46107685be09cdee0a3797dd8c8d6f = L.circleMarker(\n",
              "                [30.7258, 76.7862],\n",
              "                {&quot;bubblingMouseEvents&quot;: true, &quot;color&quot;: &quot;orange&quot;, &quot;dashArray&quot;: null, &quot;dashOffset&quot;: null, &quot;fill&quot;: true, &quot;fillColor&quot;: &quot;orange&quot;, &quot;fillOpacity&quot;: 0.7, &quot;fillRule&quot;: &quot;evenodd&quot;, &quot;lineCap&quot;: &quot;round&quot;, &quot;lineJoin&quot;: &quot;round&quot;, &quot;opacity&quot;: 1.0, &quot;radius&quot;: 5, &quot;stroke&quot;: true, &quot;weight&quot;: 3}\n",
              "            ).addTo(map_92f3e71477c751d01fc2fe5a3883f27c);\n",
              "        \n",
              "    \n",
              "        var popup_80ebd02890032d262b9e2e75c45772c9 = L.popup({&quot;maxWidth&quot;: &quot;100%&quot;});\n",
              "\n",
              "        \n",
              "            \n",
              "                var html_6da6cbb1d32b86e076aa551d1a6dae71 = $(`&lt;div id=&quot;html_6da6cbb1d32b86e076aa551d1a6dae71&quot; style=&quot;width: 100.0%; height: 100.0%;&quot;&gt;Cluster: 4, Type: Recyclables, Volume: 190 kg&lt;/div&gt;`)[0];\n",
              "                popup_80ebd02890032d262b9e2e75c45772c9.setContent(html_6da6cbb1d32b86e076aa551d1a6dae71);\n",
              "            \n",
              "        \n",
              "\n",
              "        circle_marker_fe46107685be09cdee0a3797dd8c8d6f.bindPopup(popup_80ebd02890032d262b9e2e75c45772c9)\n",
              "        ;\n",
              "\n",
              "        \n",
              "    \n",
              "&lt;/script&gt;\n",
              "&lt;/html&gt;\" style=\"position:absolute;width:100%;height:100%;left:0;top:0;border:none !important;\" allowfullscreen webkitallowfullscreen mozallowfullscreen></iframe></div></div>"
            ],
            "text/plain": [
              "<folium.folium.Map at 0x7b337121dcf0>"
            ]
          },
          "execution_count": 169,
          "metadata": {},
          "output_type": "execute_result"
        }
      ],
      "source": [
        "# Add markers for waste collection points with different cluster colors\n",
        "for cluster in range(num_clusters):\n",
        "    cluster_data = data[data['Cluster'] == cluster]\n",
        "    for index, row in cluster_data.iterrows():\n",
        "        folium.CircleMarker(\n",
        "            location=[row['Latitude'], row['Longitude']],\n",
        "            radius=5,\n",
        "            color=cluster_colors[cluster],\n",
        "            fill=True,\n",
        "            fill_color=cluster_colors[cluster],\n",
        "            fill_opacity=0.7,\n",
        "            popup=f'Cluster: {cluster}, Type: {row[\"WasteType\"]}, Volume: {row[\"WasteVolume\"]}'\n",
        "        ).add_to(m)\n",
        "\n",
        "# Display the map directly in a Jupyter Notebook\n",
        "m"
      ]
    },
    {
      "cell_type": "code",
      "execution_count": null,
      "metadata": {
        "id": "tvL8lncmKImY"
      },
      "outputs": [],
      "source": [
        "pip install scikit-learn pandas\n"
      ]
    },
    {
      "cell_type": "markdown",
      "metadata": {
        "id": "zRgwSurFP8Lx"
      },
      "source": [
        "#2nd"
      ]
    },
    {
      "cell_type": "code",
      "execution_count": null,
      "metadata": {
        "id": "4vdbaMKgP92D"
      },
      "outputs": [],
      "source": [
        "import pandas as pd\n",
        "import matplotlib.pyplot as plt"
      ]
    },
    {
      "cell_type": "code",
      "execution_count": null,
      "metadata": {
        "id": "050XtcopWGLj"
      },
      "outputs": [],
      "source": [
        "data = pd.read_csv('waste_air_quality_measurement.csv')"
      ]
    },
    {
      "cell_type": "code",
      "execution_count": null,
      "metadata": {
        "id": "PncKlNd-V_TG"
      },
      "outputs": [],
      "source": [
        "# Convert the 'DateTime' column to datetime format\n",
        "data['DateTime'] = pd.to_datetime(data['DateTime'])"
      ]
    },
    {
      "cell_type": "code",
      "execution_count": null,
      "metadata": {
        "id": "8RGKAS9YSWYR"
      },
      "outputs": [],
      "source": [
        "print(data.head())"
      ]
    },
    {
      "cell_type": "code",
      "execution_count": null,
      "metadata": {
        "id": "Sm8L2oNkQSsk"
      },
      "outputs": [],
      "source": [
        "# Basic data summary\n",
        "print(\"Dataset Summary:\")\n",
        "print(data.head())"
      ]
    },
    {
      "cell_type": "code",
      "execution_count": null,
      "metadata": {
        "id": "5GZf0qQuQfMu"
      },
      "outputs": [],
      "source": [
        "print(\"\\nDataset Information:\")\n",
        "print(data.info())"
      ]
    },
    {
      "cell_type": "code",
      "execution_count": null,
      "metadata": {
        "id": "ZeIVOakxQMcJ"
      },
      "outputs": [],
      "source": [
        "# Analyze waste management data\n",
        "print(\"\\nWaste Management Summary:\")\n",
        "waste_summary = data[['WasteType', 'CollectionFrequency', 'WasteVolume']].describe()\n",
        "print(waste_summary)\n"
      ]
    },
    {
      "cell_type": "code",
      "execution_count": null,
      "metadata": {
        "id": "YV0EVKyTVi-T"
      },
      "outputs": [],
      "source": [
        "# Analyze air quality data\n",
        "print(\"\\nAir Quality Summary:\")\n",
        "air_quality_summary = data[['AQI', 'PM2.5', 'CO', 'NO2', 'SO2', 'O3']].describe()\n",
        "print(air_quality_summary)\n",
        "\n"
      ]
    },
    {
      "cell_type": "code",
      "execution_count": null,
      "metadata": {
        "id": "3GC7WHjSVmdv"
      },
      "outputs": [],
      "source": [
        "# Visualize air quality over time\n",
        "data['DateTime'] = pd.to_datetime(data['DateTime'])\n",
        "data.set_index('DateTime', inplace=True)\n",
        "data[['AQI', 'PM2.5', 'CO', 'NO2', 'SO2', 'O3']].plot(title='Air Quality Over Time')\n",
        "plt.xlabel('DateTime')\n",
        "plt.ylabel('Value')\n",
        "plt.grid()\n",
        "plt.legend(loc='upper left')\n",
        "plt.show()"
      ]
    },
    {
      "cell_type": "markdown",
      "metadata": {
        "id": "Wy5EU4_6QIZ6"
      },
      "source": [
        "#3rd"
      ]
    },
    {
      "cell_type": "code",
      "execution_count": null,
      "metadata": {
        "id": "te8tRTGpKM5t"
      },
      "outputs": [],
      "source": [
        "import pandas as pd\n",
        "from sklearn.model_selection import train_test_split\n",
        "from sklearn.linear_model import LinearRegression\n",
        "from sklearn.metrics import mean_squared_error, r2_score\n",
        "import matplotlib.pyplot as plt"
      ]
    },
    {
      "cell_type": "code",
      "execution_count": null,
      "metadata": {
        "id": "Rz3M0EtvXIyV"
      },
      "outputs": [],
      "source": [
        "data = pd.read_csv('waste_air_quality_measurement.csv')"
      ]
    },
    {
      "cell_type": "code",
      "execution_count": null,
      "metadata": {
        "id": "kuyBnK3iKPpp"
      },
      "outputs": [],
      "source": [
        "# Assuming you have features like temperature, humidity, and time\n",
        "X = data[['Temperature', 'Humidity']].values\n",
        "y = data['Site_Location'].values"
      ]
    },
    {
      "cell_type": "code",
      "execution_count": null,
      "metadata": {
        "id": "J4bOfBpIKTbT"
      },
      "outputs": [],
      "source": [
        "# Split the data into training and testing sets\n",
        "X_train, X_test, y_train, y_test = train_test_split(X, y, test_size=0.2, random_state=42)"
      ]
    },
    {
      "cell_type": "code",
      "execution_count": null,
      "metadata": {
        "id": "yxRDmvSjSPXv"
      },
      "outputs": [],
      "source": [
        "\"\"\"\n",
        "if we having issue regaring conversion from string to float or int\n",
        "import pandas as pd\n",
        "\n",
        "# Create a sample DataFrame\n",
        "data = pd.DataFrame({'DateTime': ['2023-09-01 8:00:00', '2023-09-01 09:00:00', '2023-09-01 10:00:00', '2023-09-01 11:00:00', '2023-09-01 12:00:00', '2023-09-01 13:00:00]})\n",
        "\n",
        "# Convert the 'DateTime' column to datetime format\n",
        "data['DateTime'] = pd.to_datetime(data['DateTime'])\n",
        "\n",
        "# Convert the 'DateTime' column to float\n",
        "data['FloatDateTime'] = data['DateTime'].apply(lambda x: float(x.timestamp()))\n",
        "\n",
        "# Print the DataFrame\n",
        "print(data)\n",
        "\"\"\"\n"
      ]
    },
    {
      "cell_type": "code",
      "execution_count": null,
      "metadata": {
        "id": "vhMYdSO5KR0m"
      },
      "outputs": [],
      "source": [
        "# Create and train a linear regression model\n",
        "model = LinearRegression()\n",
        "model.fit(X_train, y_train)"
      ]
    },
    {
      "cell_type": "code",
      "execution_count": null,
      "metadata": {
        "id": "qubFpglsKYJ6"
      },
      "outputs": [],
      "source": [
        "# Make predictions on the test set\n",
        "y_pred = model.predict(X_test)\n",
        "\n"
      ]
    },
    {
      "cell_type": "code",
      "execution_count": null,
      "metadata": {
        "id": "dFr84R4_KZRq"
      },
      "outputs": [],
      "source": [
        "# Evaluate the model\n",
        "mse = mean_squared_error(y_test, y_pred)\n",
        "r2 = r2_score(y_test, y_pred)"
      ]
    },
    {
      "cell_type": "code",
      "execution_count": null,
      "metadata": {
        "id": "Li2ZIjtcKWxx"
      },
      "outputs": [],
      "source": [
        "print(f\"Mean Squared Error: {mse}\")\n",
        "print(f\"R-squared: {r2}\")"
      ]
    },
    {
      "cell_type": "code",
      "execution_count": null,
      "metadata": {
        "id": "J4uTHJSlKKk0"
      },
      "outputs": [],
      "source": [
        "# Plot the predicted vs. actual values\n",
        "plt.scatter(y_test, y_pred)\n",
        "plt.xlabel(\"Actual Air Quality Index\")\n",
        "plt.ylabel(\"Predicted Air Quality Index\")\n",
        "plt.title(\"Actual vs. Predicted Air Quality Index\")\n",
        "plt.show()\n"
      ]
    },
    {
      "cell_type": "code",
      "execution_count": null,
      "metadata": {
        "id": "2Ngo15dt5ni9"
      },
      "outputs": [],
      "source": [
        "import matplotlib.pyplot as plt\n",
        "\n",
        "\n",
        "pollutants = ['PM2.5', 'PM10', 'NO2', 'CO', 'SO2', 'O3']   ## Sample air quality data (replace with your own data)\n",
        "concentration = [20, 25, 12, 2, 5, 30]\n",
        "\n",
        "# Create a bar graph\n",
        "plt.figure(figsize=(10, 6))  # Adjust the figure size as needed\n",
        "\n",
        "plt.bar(pollutants, concentration, color='skyblue')\n",
        "plt.xlabel('Pollutants')\n",
        "plt.ylabel('Concentration (µg/m³ or ppm)')\n",
        "plt.title('Air Quality by Pollutant')\n",
        "\n",
        "\n",
        "plt.xticks(rotation=45)  # Rotate x-axis labels for better readability\n",
        "plt.grid(axis='y', linestyle='--', alpha=0.7)\n",
        "\n",
        "# Display the graph\n",
        "plt.tight_layout()\n",
        "plt.show()\n"
      ]
    },
    {
      "cell_type": "code",
      "execution_count": null,
      "metadata": {
        "id": "XRUtZqdO6nRC"
      },
      "outputs": [],
      "source": []
    }
  ],
  "metadata": {
    "colab": {
      "provenance": []
    },
    "kernelspec": {
      "display_name": "Python 3",
      "name": "python3"
    },
    "language_info": {
      "name": "python"
    }
  },
  "nbformat": 4,
  "nbformat_minor": 0
}